{
 "cells": [
  {
   "cell_type": "markdown",
   "metadata": {},
   "source": [
    "Experimental Identification of Physically Feasible Dynamic Parameters of the 7-link WAM™ Robot using LMI–SDP Techniques\n",
    "=======================================================================================================================\n",
    "\n",
    "[![DOI](https://zenodo.org/badge/920/cdsousa/wam7_dyn_ident.png)](http://dx.doi.org/10.5281/zenodo.10537)\n",
    "\n",
    "*Experimental code and data associated with the paper:*\n",
    "\n",
    "**Cristóvão D. Sousa and Rui Cortesão, \"Physical feasibility of robot base inertial parameter identification: A linear matrix inequality approach,\" The International Journal of Robotics Research, vol. 33, no. 6, pp. 931–944, May. 2014, doi: [10.1177/0278364913514870](http://dx.doi.org/10.1177/0278364913514870)**\n",
    "\n",
    "[Postprint availabe from ResearchGate](http://www.researchgate.net/publication/262483999_Physical_feasibility_of_robot_base_inertial_parameter_identification_A_linear_matrix_inequality_approach)\n",
    "\n",
    "------------------------\n",
    "\n",
    "\n",
    "Authors\n",
    "-------\n",
    "\n",
    "- Cristóvão D. Sousa, [crisjss@gmail.com](mailto:crisjss@gmail.com)\n",
    "- Rui Cortesão, [cortesao@isr.uc.pt](mailto:cortesao@isr.uc.pt)\n",
    "\n",
    "------------------------\n",
    "\n",
    "\n",
    "Research Notebook\n",
    "-----------------\n",
    "\n",
    "The research is done in [Python](http://www.python.org/) within an [IPython notebook](http://ipython.org/notebook.html) (the *WAM7 Dynamic Parameter Identification.ipynb* file).\n",
    "Data is in *data* folder. Additional Python support code is in *support_funcs* folder.\n",
    "\n",
    "The file *WAM7 Dynamic Parameter Identification.html* is a **preview** of the notebook. **It can be seen online at:**\n",
    "\n",
    "**[Experimental WAM Robot Dynamic Identification with LMI](http://goo.gl/dOPj8j)**\n",
    "\n",
    "\n",
    "\n",
    "How to run the code\n",
    "-------------------\n",
    "\n",
    "- clone the git repository (it contains code and data) from https://github.com/cdsousa/wam7_dyn_ident\n",
    "- open the *WAM7 Dynamic Parameter Identification.ipynb* notebook with [IPython](http://ipython.org/)\n",
    "- edit and run the code\n",
    "\n",
    "Dependencies:\n",
    "\n",
    "- [Python](http://www.python.org/)\n",
    "- [IPython](http://ipython.org/)\n",
    "- [SymPy](http://sympy.org/)\n",
    "- [Numpy](http://www.numpy.org/)\n",
    "- [SciPy](http://www.scipy.org/)\n",
    "- [SymPyBotics](https://github.com/cdsousa/SymPyBotics)\n",
    "- [PyLMI-SDP](https://github.com/cdsousa/PyLMI-SDP)\n",
    "\n",
    "------------------------\n",
    "\n",
    "\n",
    "Questions & Feedback\n",
    "--------------------\n",
    "\n",
    "Feel free to contact the authors at [crisjss@gmail.com](mailto:crisjss@gmail.com)\n",
    "\n",
    "------------------------\n",
    "\n",
    "\n",
    "License\n",
    "-------\n",
    "\n",
    "Copyright (c) 2013, Cristóvão Duarte Sousa, Rui Cortesão\n",
    "\n",
    "All rights reserved.\n",
    "\n",
    "[![Creative Commons License](http://i.creativecommons.org/l/by-nc-sa/4.0/88x31.png)](http://creativecommons.org/licenses/by-nc-sa/4.0/)\n",
    "This work is licensed under a [Creative Commons Attribution-NonCommercial-ShareAlike 4.0 International License](http://creativecommons.org/licenses/by-nc-sa/4.0/)\n"
   ]
  },
  {
   "cell_type": "markdown",
   "metadata": {},
   "source": [
    "---------------\n",
    "\n",
    "---------------\n",
    "\n",
    "---------------\n",
    "\n",
    "---------------"
   ]
  },
  {
   "cell_type": "markdown",
   "metadata": {},
   "source": [
    "# Initializations"
   ]
  },
  {
   "cell_type": "code",
   "execution_count": 2,
   "metadata": {},
   "outputs": [],
   "source": [
    "datafolder = 'data/'\n",
    "tmpfolder = 'tmp/'"
   ]
  },
  {
   "cell_type": "code",
   "execution_count": 3,
   "metadata": {},
   "outputs": [
    {
     "name": "stdout",
     "output_type": "stream",
     "text": [
      "Populating the interactive namespace from numpy and matplotlib\n"
     ]
    }
   ],
   "source": [
    "from sympy import init_printing\n",
    "init_printing()\n",
    "\n",
    "%pylab inline"
   ]
  },
  {
   "cell_type": "markdown",
   "metadata": {},
   "source": [
    "1 - Robot Model\n",
    "==============="
   ]
  },
  {
   "cell_type": "code",
   "execution_count": 4,
   "metadata": {},
   "outputs": [],
   "source": [
    "import sympybotics"
   ]
  },
  {
   "cell_type": "markdown",
   "metadata": {},
   "source": [
    "#### Robot Definition"
   ]
  },
  {
   "cell_type": "code",
   "execution_count": 26,
   "metadata": {},
   "outputs": [],
   "source": [
    "rbtdef = sympybotics.RobotDef(\"onedof\",\n",
    "            [(0, 0, 0, \"q\")\n",
    "             ],\n",
    "            dh_convention=\"mdh\")\n",
    "\n",
    "rbtdef.gravityacc = sympy.Matrix([0.,9.81,0.])\n",
    "rbtdef.frictionmodel = {}"
   ]
  },
  {
   "cell_type": "markdown",
   "metadata": {},
   "source": [
    "#### Model Generation"
   ]
  },
  {
   "cell_type": "code",
   "execution_count": 27,
   "metadata": {},
   "outputs": [
    {
     "name": "stdout",
     "output_type": "stream",
     "text": [
      "CPU times: user 134 ms, sys: 26.2 ms, total: 160 ms\n",
      "Wall time: 139 ms\n",
      "CPU times: user 366 ms, sys: 6.49 ms, total: 373 ms\n",
      "Wall time: 248 ms\n"
     ]
    }
   ],
   "source": [
    "%time rbt = sympybotics.RobotDynCode(rbtdef)\n",
    "%time rbt.calc_base_parms()"
   ]
  },
  {
   "cell_type": "code",
   "execution_count": 28,
   "metadata": {},
   "outputs": [],
   "source": [
    "import pickle\n",
    "with open(tmpfolder + 'robotmodels/onedof_model.pkl', 'wb') as file:\n",
    "    pickle.dump( rbt, file )"
   ]
  },
  {
   "cell_type": "markdown",
   "metadata": {},
   "source": [
    "## Base Dynamic Parameters"
   ]
  },
  {
   "cell_type": "code",
   "execution_count": 29,
   "metadata": {},
   "outputs": [],
   "source": [
    "import pickle\n",
    "with open(tmpfolder +  'robotmodels/onedof_model.pkl', 'rb' ) as file:\n",
    "          rbt = pickle.load( file )"
   ]
  },
  {
   "cell_type": "code",
   "execution_count": 30,
   "metadata": {},
   "outputs": [
    {
     "data": {
      "text/plain": [
       "(10, 3)"
      ]
     },
     "execution_count": 30,
     "metadata": {},
     "output_type": "execute_result"
    }
   ],
   "source": [
    "rbt.dyn.n_dynparms, rbt.dyn.n_base"
   ]
  },
  {
   "cell_type": "code",
   "execution_count": 31,
   "metadata": {},
   "outputs": [
    {
     "data": {
      "text/plain": [
       "Matrix([\n",
       "[L_1zz],\n",
       "[ l_1x],\n",
       "[ l_1y]])"
      ]
     },
     "execution_count": 31,
     "metadata": {},
     "output_type": "execute_result"
    }
   ],
   "source": [
    "rbt.dyn.baseparms.n()"
   ]
  },
  {
   "cell_type": "code",
   "execution_count": 32,
   "metadata": {},
   "outputs": [
    {
     "data": {
      "text/plain": [
       "Matrix([\n",
       "[0, 0, 0],\n",
       "[0, 0, 0],\n",
       "[0, 0, 0],\n",
       "[0, 0, 0],\n",
       "[0, 0, 0],\n",
       "[1, 0, 0],\n",
       "[0, 1, 0],\n",
       "[0, 0, 1],\n",
       "[0, 0, 0],\n",
       "[0, 0, 0]])"
      ]
     },
     "execution_count": 32,
     "metadata": {},
     "output_type": "execute_result"
    }
   ],
   "source": [
    "rbt.dyn.Pb"
   ]
  },
  {
   "cell_type": "code",
   "execution_count": 33,
   "metadata": {},
   "outputs": [
    {
     "name": "stdout",
     "output_type": "stream",
     "text": [
      "def idyn_func(parms, q, dq, ddq):\n",
      "#\n",
      "    idyn = [0]*1\n",
      "#\n",
      "\n",
      "    idyn[0] = ddq[0]*parms[5] - 9.81*parms[6]*cos(q[0]) + 9.81*parms[7]*sin(q[0])\n",
      "#\n",
      "    return idyn\n"
     ]
    }
   ],
   "source": [
    "idyn_func_def = sympybotics.robotcodegen.robot_code_to_func( 'python', rbt.invdyn_code, 'idyn', 'idyn_func', rbt.rbtdef)\n",
    "print idyn_func_def"
   ]
  },
  {
   "cell_type": "code",
   "execution_count": 40,
   "metadata": {},
   "outputs": [],
   "source": [
    "from sympybotics._compatibility_ import exec_\n",
    "\n",
    "l = locals()\n",
    "exec_(idyn_func_def, globals(), l)\n",
    "\n",
    "tau_onedof = l['idyn_func']\n"
   ]
  },
  {
   "cell_type": "code",
   "execution_count": 41,
   "metadata": {},
   "outputs": [],
   "source": [
    "import yaml, sympy\n",
    "with open(datafolder + 'robotparams/onedof_cad.yml', 'r') as f:\n",
    "    onedof_cad = yaml.load(f)\n",
    "dynparm_test = sympy.Matrix([onedof_cad.get(str(d), d) for d in rbt.dyn.dynparms])"
   ]
  },
  {
   "cell_type": "code",
   "execution_count": 284,
   "metadata": {},
   "outputs": [],
   "source": [
    "import numpy as np\n",
    "\n",
    "q_test = [2.62074682]#[90*np.pi/180.]\n",
    "dq_test = [-0.60085045]#[0*np.pi/180.]\n",
    "ddq_test = [(-0.62453592+0.60085045)/0.02]#[0*np.pi/180.]"
   ]
  },
  {
   "cell_type": "code",
   "execution_count": 285,
   "metadata": {},
   "outputs": [
    {
     "data": {
      "text/plain": [
       "[-6.86281899204302]"
      ]
     },
     "execution_count": 285,
     "metadata": {},
     "output_type": "execute_result"
    }
   ],
   "source": [
    "tau1 = tau_onedof(dynparm_test, q_test, dq_test, ddq_test)\n",
    "tau1"
   ]
  },
  {
   "cell_type": "markdown",
   "metadata": {},
   "source": [
    "2 - Excited Trajectory Optimization\n",
    "=================================="
   ]
  },
  {
   "cell_type": "code",
   "execution_count": 97,
   "metadata": {},
   "outputs": [],
   "source": [
    "import pickle\n",
    "with open(tmpfolder +  'robotmodels/onedof_model.pkl', 'rb' ) as file:\n",
    "          rbt = pickle.load( file )"
   ]
  },
  {
   "cell_type": "code",
   "execution_count": 98,
   "metadata": {},
   "outputs": [
    {
     "name": "stdout",
     "output_type": "stream",
     "text": [
      "joint constraint number: 1\n",
      "cartesian constraint number: 0\n",
      "constraint number: 4\n",
      "frames_constrained: []\n",
      "cond: 1.88045819568\n",
      "cond: 1.88045825456\n",
      "cond: 1.8804584535\n",
      "cond: 1.88045841218\n",
      "cond: 1.88045817581\n",
      "cond: 1.88045817701\n",
      "cond: 1.88045819404\n",
      "cond: 1.8804582662\n",
      "cond: 1.88045859342\n",
      "cond: 1.88045857351\n",
      "cond: 1.88045827068\n",
      "cond: 1.88045809714\n",
      "cond: 1.8804583057\n",
      "cond: 1.88045799619\n",
      "cond: 2.07210967572\n",
      "cond: 2.07210971058\n",
      "cond: 2.07211038235\n",
      "cond: 2.07210895908\n",
      "cond: 2.07210962998\n",
      "cond: 2.07210887146\n",
      "cond: 2.072109898\n",
      "cond: 2.07210967277\n",
      "cond: 2.07210620238\n",
      "cond: 2.07210972263\n",
      "cond: 2.07210926331\n",
      "cond: 2.07210966586\n",
      "cond: 2.07210981659\n",
      "cond: 2.07211018735\n",
      "cond: 1.55864502507\n",
      "cond: 1.55864495166\n",
      "cond: 1.55864373501\n",
      "cond: 1.55864500167\n",
      "cond: 1.55864498921\n",
      "cond: 1.55864478079\n",
      "cond: 1.55864414887\n",
      "cond: 1.55864470509\n",
      "cond: 1.55864542183\n",
      "cond: 1.55864543103\n",
      "cond: 1.55864495117\n",
      "cond: 1.55864424948\n",
      "cond: 1.55864498892\n",
      "cond: 1.5586442679\n",
      "cond: 1.33385394258\n",
      "cond: 1.33385393053\n",
      "cond: 1.33385501713\n",
      "cond: 1.33385424242\n",
      "cond: 1.33385393418\n",
      "cond: 1.33385445943\n",
      "cond: 1.33385373239\n",
      "cond: 1.33385389324\n",
      "cond: 1.33385335754\n",
      "cond: 1.33385372006\n",
      "cond: 1.33385424225\n",
      "cond: 1.33385380753\n",
      "cond: 1.33385443647\n",
      "cond: 1.33385388038\n",
      "cond: 1.48154621203\n",
      "cond: 1.32918769771\n",
      "cond: 1.27432820192\n",
      "cond: 1.27432822031\n",
      "cond: 1.27432822072\n",
      "cond: 1.27432832121\n",
      "cond: 1.27432840777\n",
      "cond: 1.27432798266\n",
      "cond: 1.27432785774\n",
      "cond: 1.27432828855\n",
      "cond: 1.27432676221\n",
      "cond: 1.27432850241\n",
      "cond: 1.2743283853\n",
      "cond: 1.27432792454\n",
      "cond: 1.27432810233\n",
      "cond: 1.27432807209\n",
      "cond: 1.56255649973\n",
      "cond: 1.26060552166\n",
      "cond: 1.25766987593\n",
      "cond: 1.25766998993\n",
      "cond: 1.25766975255\n",
      "cond: 1.2576699263\n",
      "cond: 1.25767008281\n",
      "cond: 1.257669692\n",
      "cond: 1.25767013496\n",
      "cond: 1.25767018797\n",
      "cond: 1.25766917019\n",
      "cond: 1.25767016883\n",
      "cond: 1.25766965623\n",
      "cond: 1.2576696079\n",
      "cond: 1.25767019933\n",
      "cond: 1.25766985618\n",
      "cond: 1.91214093489\n",
      "cond: 1.22305336498\n",
      "cond: 1.22305325767\n",
      "cond: 1.22305366411\n",
      "cond: 1.22305300408\n",
      "cond: 1.22305344189\n",
      "cond: 1.22305322701\n",
      "cond: 1.22305369189\n",
      "cond: 1.22305357073\n",
      "cond: 1.22305391199\n",
      "cond: 1.22305285602\n",
      "cond: 1.22305322071\n",
      "cond: 1.22305314222\n",
      "cond: 1.22305360533\n",
      "cond: 1.22305360618\n",
      "cond: 1.62789528164\n",
      "cond: 1.23413761323\n",
      "cond: 1.2234701873\n",
      "cond: 1.22118775151\n",
      "cond: 1.22118766426\n",
      "cond: 1.22118818781\n",
      "cond: 1.22118737335\n",
      "cond: 1.22118768359\n",
      "cond: 1.22118763803\n",
      "cond: 1.2211875894\n",
      "cond: 1.22118748651\n",
      "cond: 1.22118830554\n",
      "cond: 1.22118720814\n",
      "cond: 1.22118807901\n",
      "cond: 1.22118776708\n",
      "cond: 1.22118730806\n",
      "cond: 1.22118773237\n",
      "cond: 1.31779167204\n",
      "cond: 1.19181690542\n",
      "cond: 1.19181685012\n",
      "cond: 1.19181634484\n",
      "cond: 1.19181651517\n",
      "cond: 1.19181706916\n",
      "cond: 1.19181665817\n",
      "cond: 1.19181691308\n",
      "cond: 1.19181682049\n",
      "cond: 1.19181680899\n",
      "cond: 1.19181664435\n",
      "cond: 1.19181656771\n",
      "cond: 1.19181666911\n",
      "cond: 1.19181713241\n",
      "cond: 1.19181701922\n",
      "cond: 1.39906732188\n",
      "cond: 1.21110054865\n",
      "cond: 1.19159000192\n",
      "cond: 1.18934423643\n",
      "cond: 1.18934418331\n",
      "cond: 1.18934350036\n",
      "cond: 1.18934419213\n",
      "cond: 1.18934386501\n",
      "cond: 1.18934452285\n",
      "cond: 1.18934395031\n",
      "cond: 1.18934387273\n",
      "cond: 1.18934398108\n",
      "cond: 1.18934406944\n",
      "cond: 1.18934380845\n",
      "cond: 1.18934407798\n",
      "cond: 1.1893443993\n",
      "cond: 1.18934427026\n",
      "cond: 1.37699587799\n",
      "cond: 1.1829322353\n",
      "cond: 1.18293224472\n",
      "cond: 1.18293226378\n",
      "cond: 1.18293253386\n",
      "cond: 1.182931971\n",
      "cond: 1.18293191745\n",
      "cond: 1.18293192269\n",
      "cond: 1.18293198395\n",
      "cond: 1.18293120821\n",
      "cond: 1.18293266458\n",
      "cond: 1.1829318734\n",
      "cond: 1.1829324453\n",
      "cond: 1.182931742\n",
      "cond: 1.1829322726\n",
      "cond: 1.43767018923\n",
      "cond: 1.20882574959\n",
      "cond: 1.1855892743\n",
      "cond: 1.18156503105\n",
      "cond: 1.18156504108\n",
      "cond: 1.18156507228\n",
      "cond: 1.1815653316\n",
      "cond: 1.18156477002\n",
      "cond: 1.18156471652\n",
      "cond: 1.18156472155\n",
      "cond: 1.18156477842\n",
      "cond: 1.18156400546\n",
      "cond: 1.18156545981\n",
      "cond: 1.18156466979\n",
      "cond: 1.18156524117\n",
      "cond: 1.18156454241\n",
      "cond: 1.18156506954\n",
      "cond: 2.16535636504\n",
      "cond: 1.29382817971\n",
      "cond: 1.19731529065\n",
      "cond: 1.18421981757\n",
      "cond: 1.18170333748\n",
      "cond: 1.18143089123\n",
      "cond: 1.18143090139\n",
      "cond: 1.18143093427\n",
      "cond: 1.18143119181\n",
      "cond: 1.18143063047\n",
      "cond: 1.18143057684\n",
      "cond: 1.18143058176\n",
      "cond: 1.18143063834\n",
      "cond: 1.18142986457\n",
      "cond: 1.1814313197\n",
      "cond: 1.18143053003\n",
      "cond: 1.18143110124\n",
      "cond: 1.18143040277\n",
      "cond: 1.18143092976\n",
      "cond: 1.9242244284\n",
      "cond: 1.34683748815\n",
      "cond: 1.20570271357\n",
      "cond: 1.18635388986\n",
      "cond: 1.18237609149\n",
      "cond: 1.18153440253\n",
      "cond: 1.18137934814\n",
      "cond: 1.18137935834\n",
      "cond: 1.18137939178\n",
      "cond: 1.18137964876\n",
      "cond: 1.18137908748\n",
      "cond: 1.18137903382\n",
      "cond: 1.18137903871\n",
      "cond: 1.18137909518\n",
      "cond: 1.18137832118\n",
      "cond: 1.18137977654\n",
      "cond: 1.18137898695\n",
      "cond: 1.18137955814\n",
      "cond: 1.18137885976\n",
      "cond: 1.1813793867\n",
      "cond: 1.86626066648\n",
      "cond: 1.36692996569\n",
      "cond: 1.20780810481\n",
      "cond: 1.18693890605\n",
      "cond: 1.18257735597\n",
      "cond: 1.18162335177\n",
      "cond: 1.18142363408\n",
      "cond: 1.18138183446\n",
      "cond: 1.18137564778\n",
      "cond: 1.18137565798\n",
      "cond: 1.18137569146\n",
      "cond: 1.18137594841\n",
      "cond: 1.18137538712\n",
      "cond: 1.18137533346\n",
      "cond: 1.18137533835\n",
      "cond: 1.18137539482\n",
      "cond: 1.18137462081\n",
      "cond: 1.18137607617\n",
      "cond: 1.18137528659\n",
      "cond: 1.18137585778\n",
      "cond: 1.18137515941\n",
      "cond: 1.18137568635\n",
      "cond: 1.8526175695\n",
      "cond: 1.37162458154\n",
      "cond: 1.20826800351\n",
      "cond: 1.18707361208\n",
      "cond: 1.18261559685\n",
      "cond: 1.18163526945\n",
      "cond: 1.18142927003\n",
      "cond: 1.18138586788\n",
      "cond: 1.18137673138\n",
      "cond: 1.18137500797\n",
      "Condition number: 1.18137500797\n",
      "x: [ 0.02435484 -0.2300366   0.08664245  0.48328164  0.49876053  0.39491628\n",
      " -0.13451326  0.74083361 -0.16916198  0.1329997   0.43605535 -0.34379719\n",
      "  0.54984871]\n",
      "\n",
      "SLSQP Solution to Optimial Excitation Trajectory\n",
      "================================================================================\n",
      "\n",
      "        Objective Function: _obj_func\n",
      "\n",
      "    Solution: \n",
      "--------------------------------------------------------------------------------\n",
      "    Total Time:                    0.7500\n",
      "    Total Function Evaluations:          \n",
      "    Sensitivities:        FD\n",
      "\n",
      "    Objectives:\n",
      "        Name        Value        Optimum\n",
      "\t     f         1.18138             0\n",
      "\n",
      "\tVariables (c - continuous, i - integer, d - discrete):\n",
      "        Name    Type       Value       Lower Bound  Upper Bound\n",
      "\t     x1       c\t      0.024355      -3.14e+00     3.14e+00 \n",
      "\t     x2       c\t     -0.230037      -3.14e+01     3.14e+01 \n",
      "\t     x3       c\t      0.086642      -3.14e+01     3.14e+01 \n",
      "\t     x4       c\t      0.483282      -3.14e+01     3.14e+01 \n",
      "\t     x5       c\t      0.498761      -3.14e+01     3.14e+01 \n",
      "\t     x6       c\t      0.394916      -3.14e+01     3.14e+01 \n",
      "\t     x7       c\t     -0.134513      -3.14e+01     3.14e+01 \n",
      "\t     x8       c\t      0.740834      -3.14e+01     3.14e+01 \n",
      "\t     x9       c\t     -0.169162      -3.14e+01     3.14e+01 \n",
      "\t    x10       c\t      0.133000      -3.14e+01     3.14e+01 \n",
      "\t    x11       c\t      0.436055      -3.14e+01     3.14e+01 \n",
      "\t    x12       c\t     -0.343797      -3.14e+01     3.14e+01 \n",
      "\t    x13       c\t      0.549849      -3.14e+01     3.14e+01 \n",
      "\n",
      "\tConstraints (i - inequality, e - equality):\n",
      "        Name    Type                    Bounds\n",
      "\t    g_0   \t  i       -1.00e+21 <= -5.767109 <= 0.00e+00\n",
      "\t    g_1   \t  i       -1.00e+21 <= -0.516076 <= 0.00e+00\n",
      "\t    g_2   \t  i       -1.00e+21 <= -0.747617 <= 0.00e+00\n",
      "\t    g_3   \t  i       -1.00e+21 <= -3.441173 <= 0.00e+00\n",
      "\t    g_4   \t  i       -1.00e+21 <= -5.418754 <= 0.00e+00\n",
      "\t    g_5   \t  i       -1.00e+21 <= -0.864432 <= 0.00e+00\n",
      "\t    g_6   \t  i       -1.00e+21 <= -0.429843 <= 0.00e+00\n",
      "\t    g_7   \t  i       -1.00e+21 <= -3.758947 <= 0.00e+00\n",
      "\t    g_8   \t  i       -1.00e+21 <= -5.017445 <= 0.00e+00\n",
      "\t    g_9   \t  i       -1.00e+21 <= -1.265740 <= 0.00e+00\n",
      "\t    g_10  \t  i       -1.00e+21 <= -0.282665 <= 0.00e+00\n",
      "\t    g_11  \t  i       -1.00e+21 <= -3.906126 <= 0.00e+00\n",
      "\t    g_12  \t  i       -1.00e+21 <= -4.621280 <= 0.00e+00\n",
      "\t    g_13  \t  i       -1.00e+21 <= -1.661905 <= 0.00e+00\n",
      "\t    g_14  \t  i       -1.00e+21 <= -0.297811 <= 0.00e+00\n",
      "\t    g_15  \t  i       -1.00e+21 <= -3.890979 <= 0.00e+00\n",
      "\t    g_16  \t  i       -1.00e+21 <= -4.290956 <= 0.00e+00\n",
      "\t    g_17  \t  i       -1.00e+21 <= -1.992229 <= 0.00e+00\n",
      "\t    g_18  \t  i       -1.00e+21 <= -0.441672 <= 0.00e+00\n",
      "\t    g_19  \t  i       -1.00e+21 <= -3.747119 <= 0.00e+00\n",
      "\t    g_20  \t  i       -1.00e+21 <= -4.077948 <= 0.00e+00\n",
      "\t    g_21  \t  i       -1.00e+21 <= -2.205237 <= 0.00e+00\n",
      "\t    g_22  \t  i       -1.00e+21 <= -0.668602 <= 0.00e+00\n",
      "\t    g_23  \t  i       -1.00e+21 <= -3.520188 <= 0.00e+00\n",
      "\t    g_24  \t  i       -1.00e+21 <= -4.013662 <= 0.00e+00\n",
      "\t    g_25  \t  i       -1.00e+21 <= -2.269523 <= 0.00e+00\n",
      "\t    g_26  \t  i       -1.00e+21 <= -0.934839 <= 0.00e+00\n",
      "\t    g_27  \t  i       -1.00e+21 <= -3.253951 <= 0.00e+00\n",
      "\t    g_28  \t  i       -1.00e+21 <= -4.102295 <= 0.00e+00\n",
      "\t    g_29  \t  i       -1.00e+21 <= -2.180890 <= 0.00e+00\n",
      "\t    g_30  \t  i       -1.00e+21 <= -1.208990 <= 0.00e+00\n",
      "\t    g_31  \t  i       -1.00e+21 <= -2.979800 <= 0.00e+00\n",
      "\t    g_32  \t  i       -1.00e+21 <= -4.319342 <= 0.00e+00\n",
      "\t    g_33  \t  i       -1.00e+21 <= -1.963843 <= 0.00e+00\n",
      "\t    g_34  \t  i       -1.00e+21 <= -1.476372 <= 0.00e+00\n",
      "\t    g_35  \t  i       -1.00e+21 <= -2.712418 <= 0.00e+00\n",
      "\t    g_36  \t  i       -1.00e+21 <= -4.616369 <= 0.00e+00\n",
      "\t    g_37  \t  i       -1.00e+21 <= -1.666816 <= 0.00e+00\n",
      "\t    g_38  \t  i       -1.00e+21 <= -1.736567 <= 0.00e+00\n",
      "\t    g_39  \t  i       -1.00e+21 <= -2.452224 <= 0.00e+00\n",
      "\t    g_40  \t  i       -1.00e+21 <= -4.931127 <= 0.00e+00\n",
      "\t    g_41  \t  i       -1.00e+21 <= -1.352058 <= 0.00e+00\n",
      "\t    g_42  \t  i       -1.00e+21 <= -1.995696 <= 0.00e+00\n",
      "\t    g_43  \t  i       -1.00e+21 <= -2.193094 <= 0.00e+00\n",
      "\t    g_44  \t  i       -1.00e+21 <= -5.200725 <= 0.00e+00\n",
      "\t    g_45  \t  i       -1.00e+21 <= -1.082460 <= 0.00e+00\n",
      "\t    g_46  \t  i       -1.00e+21 <= -2.256589 <= 0.00e+00\n",
      "\t    g_47  \t  i       -1.00e+21 <= -1.932201 <= 0.00e+00\n",
      "\t    g_48  \t  i       -1.00e+21 <= -5.374741 <= 0.00e+00\n",
      "\t    g_49  \t  i       -1.00e+21 <= -0.908445 <= 0.00e+00\n",
      "\t    g_50  \t  i       -1.00e+21 <= -2.510604 <= 0.00e+00\n",
      "\t    g_51  \t  i       -1.00e+21 <= -1.678186 <= 0.00e+00\n",
      "\t    g_52  \t  i       -1.00e+21 <= -5.425126 <= 0.00e+00\n",
      "\t    g_53  \t  i       -1.00e+21 <= -0.858059 <= 0.00e+00\n",
      "\t    g_54  \t  i       -1.00e+21 <= -2.734346 <= 0.00e+00\n",
      "\t    g_55  \t  i       -1.00e+21 <= -1.454444 <= 0.00e+00\n",
      "\t    g_56  \t  i       -1.00e+21 <= -5.350518 <= 0.00e+00\n",
      "\t    g_57  \t  i       -1.00e+21 <= -0.932667 <= 0.00e+00\n",
      "\t    g_58  \t  i       -1.00e+21 <= -2.892904 <= 0.00e+00\n",
      "\t    g_59  \t  i       -1.00e+21 <= -1.295887 <= 0.00e+00\n",
      "\t    g_60  \t  i       -1.00e+21 <= -5.173974 <= 0.00e+00\n",
      "\t    g_61  \t  i       -1.00e+21 <= -1.109211 <= 0.00e+00\n",
      "\t    g_62  \t  i       -1.00e+21 <= -2.949104 <= 0.00e+00\n",
      "\t    g_63  \t  i       -1.00e+21 <= -1.239686 <= 0.00e+00\n",
      "\t    g_64  \t  i       -1.00e+21 <= -4.934805 <= 0.00e+00\n",
      "\t    g_65  \t  i       -1.00e+21 <= -1.348381 <= 0.00e+00\n",
      "\t    g_66  \t  i       -1.00e+21 <= -2.876225 <= 0.00e+00\n",
      "\t    g_67  \t  i       -1.00e+21 <= -1.312565 <= 0.00e+00\n",
      "\t    g_68  \t  i       -1.00e+21 <= -4.676709 <= 0.00e+00\n",
      "\t    g_69  \t  i       -1.00e+21 <= -1.606476 <= 0.00e+00\n",
      "\t    g_70  \t  i       -1.00e+21 <= -2.670235 <= 0.00e+00\n",
      "\t    g_71  \t  i       -1.00e+21 <= -1.518555 <= 0.00e+00\n",
      "\t    g_72  \t  i       -1.00e+21 <= -4.435361 <= 0.00e+00\n",
      "\t    g_73  \t  i       -1.00e+21 <= -1.847824 <= 0.00e+00\n",
      "\t    g_74  \t  i       -1.00e+21 <= -2.357428 <= 0.00e+00\n",
      "\t    g_75  \t  i       -1.00e+21 <= -1.831362 <= 0.00e+00\n",
      "\t    g_76  \t  i       -1.00e+21 <= -4.228733 <= 0.00e+00\n",
      "\t    g_77  \t  i       -1.00e+21 <= -2.054452 <= 0.00e+00\n",
      "\t    g_78  \t  i       -1.00e+21 <= -1.994340 <= 0.00e+00\n",
      "\t    g_79  \t  i       -1.00e+21 <= -2.194450 <= 0.00e+00\n",
      "\t    g_80  \t  i       -1.00e+21 <= -4.052750 <= 0.00e+00\n",
      "\t    g_81  \t  i       -1.00e+21 <= -2.230436 <= 0.00e+00\n",
      "\t    g_82  \t  i       -1.00e+21 <= -1.658875 <= 0.00e+00\n",
      "\t    g_83  \t  i       -1.00e+21 <= -2.529915 <= 0.00e+00\n",
      "\t    g_84  \t  i       -1.00e+21 <= -3.883418 <= 0.00e+00\n",
      "\t    g_85  \t  i       -1.00e+21 <= -2.399767 <= 0.00e+00\n",
      "\t    g_86  \t  i       -1.00e+21 <= -1.434070 <= 0.00e+00\n",
      "\t    g_87  \t  i       -1.00e+21 <= -2.754720 <= 0.00e+00\n",
      "\t    g_88  \t  i       -1.00e+21 <= -3.684890 <= 0.00e+00\n",
      "\t    g_89  \t  i       -1.00e+21 <= -2.598295 <= 0.00e+00\n",
      "\t    g_90  \t  i       -1.00e+21 <= -1.388188 <= 0.00e+00\n",
      "\t    g_91  \t  i       -1.00e+21 <= -2.800602 <= 0.00e+00\n",
      "\t    g_92  \t  i       -1.00e+21 <= -3.421289 <= 0.00e+00\n",
      "\t    g_93  \t  i       -1.00e+21 <= -2.861897 <= 0.00e+00\n",
      "\t    g_94  \t  i       -1.00e+21 <= -1.556210 <= 0.00e+00\n",
      "\t    g_95  \t  i       -1.00e+21 <= -2.632580 <= 0.00e+00\n",
      "\t    g_96  \t  i       -1.00e+21 <= -3.069086 <= 0.00e+00\n",
      "\t    g_97  \t  i       -1.00e+21 <= -3.214099 <= 0.00e+00\n",
      "\t    g_98  \t  i       -1.00e+21 <= -1.927832 <= 0.00e+00\n",
      "\t    g_99  \t  i       -1.00e+21 <= -2.260958 <= 0.00e+00\n",
      "\t   g_100  \t  i       -1.00e+21 <= -2.626613 <= 0.00e+00\n",
      "\t   g_101  \t  i       -1.00e+21 <= -3.656572 <= 0.00e+00\n",
      "\t   g_102  \t  i       -1.00e+21 <= -2.445729 <= 0.00e+00\n",
      "\t   g_103  \t  i       -1.00e+21 <= -1.743061 <= 0.00e+00\n",
      "\t   g_104  \t  i       -1.00e+21 <= -2.117966 <= 0.00e+00\n",
      "\t   g_105  \t  i       -1.00e+21 <= -4.165219 <= 0.00e+00\n",
      "\t   g_106  \t  i       -1.00e+21 <= -3.015366 <= 0.00e+00\n",
      "\t   g_107  \t  i       -1.00e+21 <= -1.173424 <= 0.00e+00\n",
      "\t   g_108  \t  i       -1.00e+21 <= -1.590004 <= 0.00e+00\n",
      "\t   g_109  \t  i       -1.00e+21 <= -4.693181 <= 0.00e+00\n",
      "\t   g_110  \t  i       -1.00e+21 <= -3.524688 <= 0.00e+00\n",
      "\t   g_111  \t  i       -1.00e+21 <= -0.664103 <= 0.00e+00\n",
      "\t   g_112  \t  i       -1.00e+21 <= -1.102931 <= 0.00e+00\n",
      "\t   g_113  \t  i       -1.00e+21 <= -5.180254 <= 0.00e+00\n",
      "\t   g_114  \t  i       -1.00e+21 <= -3.869331 <= 0.00e+00\n",
      "\t   g_115  \t  i       -1.00e+21 <= -0.319459 <= 0.00e+00\n",
      "\t   g_116  \t  i       -1.00e+21 <= -0.716678 <= 0.00e+00\n",
      "\t   g_117  \t  i       -1.00e+21 <= -5.566508 <= 0.00e+00\n",
      "\t   g_118  \t  i       -1.00e+21 <= -3.977375 <= 0.00e+00\n",
      "\t   g_119  \t  i       -1.00e+21 <= -0.211415 <= 0.00e+00\n",
      "\t   g_120  \t  i       -1.00e+21 <= -0.476437 <= 0.00e+00\n",
      "\t   g_121  \t  i       -1.00e+21 <= -5.806749 <= 0.00e+00\n",
      "\t   g_122  \t  i       -1.00e+21 <= -3.827423 <= 0.00e+00\n",
      "\t   g_123  \t  i       -1.00e+21 <= -0.361368 <= 0.00e+00\n",
      "\t   g_124  \t  i       -1.00e+21 <= -0.401062 <= 0.00e+00\n",
      "\t   g_125  \t  i       -1.00e+21 <= -5.882123 <= 0.00e+00\n",
      "\t   g_126  \t  i       -1.00e+21 <= -3.455279 <= 0.00e+00\n",
      "\t   g_127  \t  i       -1.00e+21 <= -0.733511 <= 0.00e+00\n",
      "\t   g_128  \t  i       -1.00e+21 <= -0.477377 <= 0.00e+00\n",
      "\t   g_129  \t  i       -1.00e+21 <= -5.805808 <= 0.00e+00\n",
      "\t   g_130  \t  i       -1.00e+21 <= -2.947151 <= 0.00e+00\n",
      "\t   g_131  \t  i       -1.00e+21 <= -1.241640 <= 0.00e+00\n",
      "\t   g_132  \t  i       -1.00e+21 <= -0.662041 <= 0.00e+00\n",
      "\t   g_133  \t  i       -1.00e+21 <= -5.621145 <= 0.00e+00\n",
      "\t   g_134  \t  i       -1.00e+21 <= -2.420614 <= 0.00e+00\n",
      "\t   g_135  \t  i       -1.00e+21 <= -1.768177 <= 0.00e+00\n",
      "\t   g_136  \t  i       -1.00e+21 <= -0.890723 <= 0.00e+00\n",
      "\t   g_137  \t  i       -1.00e+21 <= -5.392462 <= 0.00e+00\n",
      "\t   g_138  \t  i       -1.00e+21 <= -1.997684 <= 0.00e+00\n",
      "\t   g_139  \t  i       -1.00e+21 <= -2.191106 <= 0.00e+00\n",
      "\t   g_140  \t  i       -1.00e+21 <= -1.092539 <= 0.00e+00\n",
      "\t   g_141  \t  i       -1.00e+21 <= -5.190646 <= 0.00e+00\n",
      "\t   g_142  \t  i       -1.00e+21 <= -1.776385 <= 0.00e+00\n",
      "\t   g_143  \t  i       -1.00e+21 <= -2.412405 <= 0.00e+00\n",
      "\t   g_144  \t  i       -1.00e+21 <= -1.206318 <= 0.00e+00\n",
      "\t   g_145  \t  i       -1.00e+21 <= -5.076867 <= 0.00e+00\n",
      "\t   g_146  \t  i       -1.00e+21 <= -1.807689 <= 0.00e+00\n",
      "\t   g_147  \t  i       -1.00e+21 <= -2.381101 <= 0.00e+00\n",
      "\t   g_148  \t  i       -1.00e+21 <= -1.194813 <= 0.00e+00\n",
      "\t   g_149  \t  i       -1.00e+21 <= -5.088372 <= 0.00e+00\n",
      "\t   g_150  \t  i       -1.00e+21 <= -2.083500 <= 0.00e+00\n",
      "\t   g_151  \t  i       -1.00e+21 <= -2.105290 <= 0.00e+00\n",
      "\t   g_152  \t  i       -1.00e+21 <= -1.053415 <= 0.00e+00\n",
      "\t   g_153  \t  i       -1.00e+21 <= -5.229771 <= 0.00e+00\n",
      "\t   g_154  \t  i       -1.00e+21 <= -2.538645 <= 0.00e+00\n",
      "\t   g_155  \t  i       -1.00e+21 <= -1.650146 <= 0.00e+00\n",
      "\t   g_156  \t  i       -1.00e+21 <= -0.811253 <= 0.00e+00\n",
      "\t   g_157  \t  i       -1.00e+21 <= -5.471933 <= 0.00e+00\n",
      "\t   g_158  \t  i       -1.00e+21 <= -3.066427 <= 0.00e+00\n",
      "\t   g_159  \t  i       -1.00e+21 <= -1.122364 <= 0.00e+00\n",
      "\t   g_160  \t  i       -1.00e+21 <= -0.524428 <= 0.00e+00\n",
      "\t   g_161  \t  i       -1.00e+21 <= -5.758757 <= 0.00e+00\n",
      "\t   g_162  \t  i       -1.00e+21 <= -3.543930 <= 0.00e+00\n",
      "\t   g_163  \t  i       -1.00e+21 <= -0.644860 <= 0.00e+00\n",
      "\t   g_164  \t  i       -1.00e+21 <= -0.263005 <= 0.00e+00\n",
      "\t   g_165  \t  i       -1.00e+21 <= -6.020181 <= 0.00e+00\n",
      "\t   g_166  \t  i       -1.00e+21 <= -3.860868 <= 0.00e+00\n",
      "\t   g_167  \t  i       -1.00e+21 <= -0.327922 <= 0.00e+00\n",
      "\t   g_168  \t  i       -1.00e+21 <= -0.094879 <= 0.00e+00\n",
      "\t   g_169  \t  i       -1.00e+21 <= -6.188306 <= 0.00e+00\n",
      "\t   g_170  \t  i       -1.00e+21 <= -3.944918 <= 0.00e+00\n",
      "\t   g_171  \t  i       -1.00e+21 <= -0.243872 <= 0.00e+00\n",
      "\t   g_172  \t  i       -1.00e+21 <= -0.070366 <= 0.00e+00\n",
      "\t   g_173  \t  i       -1.00e+21 <= -6.212819 <= 0.00e+00\n",
      "\t   g_174  \t  i       -1.00e+21 <= -3.777413 <= 0.00e+00\n",
      "\t   g_175  \t  i       -1.00e+21 <= -0.411377 <= 0.00e+00\n",
      "\t   g_176  \t  i       -1.00e+21 <= -0.211077 <= 0.00e+00\n",
      "\t   g_177  \t  i       -1.00e+21 <= -6.072108 <= 0.00e+00\n",
      "\t   g_178  \t  i       -1.00e+21 <= -3.395723 <= 0.00e+00\n",
      "\t   g_179  \t  i       -1.00e+21 <= -0.793067 <= 0.00e+00\n",
      "\t   g_180  \t  i       -1.00e+21 <= -0.505589 <= 0.00e+00\n",
      "\t   g_181  \t  i       -1.00e+21 <= -5.777597 <= 0.00e+00\n",
      "\t   g_182  \t  i       -1.00e+21 <= -2.882023 <= 0.00e+00\n",
      "\t   g_183  \t  i       -1.00e+21 <= -1.306767 <= 0.00e+00\n",
      "\t   g_184  \t  i       -1.00e+21 <= -0.912698 <= 0.00e+00\n",
      "\t   g_185  \t  i       -1.00e+21 <= -5.370488 <= 0.00e+00\n",
      "\t   g_186  \t  i       -1.00e+21 <= -2.341548 <= 0.00e+00\n",
      "\t   g_187  \t  i       -1.00e+21 <= -1.847242 <= 0.00e+00\n",
      "\t   g_188  \t  i       -1.00e+21 <= -1.371248 <= 0.00e+00\n",
      "\t   g_189  \t  i       -1.00e+21 <= -4.911937 <= 0.00e+00\n",
      "\t   g_190  \t  i       -1.00e+21 <= -1.876043 <= 0.00e+00\n",
      "\t   g_191  \t  i       -1.00e+21 <= -2.312747 <= 0.00e+00\n",
      "\t   g_192  \t  i       -1.00e+21 <= -1.813981 <= 0.00e+00\n",
      "\t   g_193  \t  i       -1.00e+21 <= -4.469205 <= 0.00e+00\n",
      "\t   g_194  \t  i       -1.00e+21 <= -1.559191 <= 0.00e+00\n",
      "\t   g_195  \t  i       -1.00e+21 <= -2.629599 <= 0.00e+00\n",
      "\t   g_196  \t  i       -1.00e+21 <= -2.182033 <= 0.00e+00\n",
      "\t   g_197  \t  i       -1.00e+21 <= -4.101152 <= 0.00e+00\n",
      "\t   g_198  \t  i       -1.00e+21 <= -1.420184 <= 0.00e+00\n",
      "\t   g_199  \t  i       -1.00e+21 <= -2.768606 <= 0.00e+00\n",
      "\t   g_200  \t  i       -1.00e+21 <= -2.436726 <= 0.00e+00\n",
      "\t   g_201  \t  i       -1.00e+21 <= -3.846459 <= 0.00e+00\n",
      "\t   g_202  \t  i       -1.00e+21 <= -1.439391 <= 0.00e+00\n",
      "\t   g_203  \t  i       -1.00e+21 <= -2.749399 <= 0.00e+00\n",
      "\t   g_204  \t  i       -1.00e+21 <= -2.566103 <= 0.00e+00\n",
      "\t   g_205  \t  i       -1.00e+21 <= -3.717083 <= 0.00e+00\n",
      "\t   g_206  \t  i       -1.00e+21 <= -1.556896 <= 0.00e+00\n",
      "\t   g_207  \t  i       -1.00e+21 <= -2.631894 <= 0.00e+00\n",
      "\t   g_208  \t  i       -1.00e+21 <= -2.585113 <= 0.00e+00\n",
      "\t   g_209  \t  i       -1.00e+21 <= -3.698073 <= 0.00e+00\n",
      "\t   g_210  \t  i       -1.00e+21 <= -1.691329 <= 0.00e+00\n",
      "\t   g_211  \t  i       -1.00e+21 <= -2.497461 <= 0.00e+00\n",
      "\t   g_212  \t  i       -1.00e+21 <= -2.529916 <= 0.00e+00\n",
      "\t   g_213  \t  i       -1.00e+21 <= -3.753269 <= 0.00e+00\n",
      "\t   g_214  \t  i       -1.00e+21 <= -1.763816 <= 0.00e+00\n",
      "\t   g_215  \t  i       -1.00e+21 <= -2.424974 <= 0.00e+00\n",
      "\t   g_216  \t  i       -1.00e+21 <= -2.448170 <= 0.00e+00\n",
      "\t   g_217  \t  i       -1.00e+21 <= -3.835015 <= 0.00e+00\n",
      "\t   g_218  \t  i       -1.00e+21 <= -1.720625 <= 0.00e+00\n",
      "\t   g_219  \t  i       -1.00e+21 <= -2.468166 <= 0.00e+00\n",
      "\t   g_220  \t  i       -1.00e+21 <= -2.387959 <= 0.00e+00\n",
      "\t   g_221  \t  i       -1.00e+21 <= -3.895227 <= 0.00e+00\n",
      "\t   g_222  \t  i       -1.00e+21 <= -1.548521 <= 0.00e+00\n",
      "\t   g_223  \t  i       -1.00e+21 <= -2.640269 <= 0.00e+00\n",
      "\t   g_224  \t  i       -1.00e+21 <= -2.388124 <= 0.00e+00\n",
      "\t   g_225  \t  i       -1.00e+21 <= -3.895061 <= 0.00e+00\n",
      "\t   g_226  \t  i       -1.00e+21 <= -1.278857 <= 0.00e+00\n",
      "\t   g_227  \t  i       -1.00e+21 <= -2.909934 <= 0.00e+00\n",
      "\t   g_228  \t  i       -1.00e+21 <= -2.472099 <= 0.00e+00\n",
      "\t   g_229  \t  i       -1.00e+21 <= -3.811086 <= 0.00e+00\n",
      "\t   g_230  \t  i       -1.00e+21 <= -0.979405 <= 0.00e+00\n",
      "\t   g_231  \t  i       -1.00e+21 <= -3.209385 <= 0.00e+00\n",
      "\t   g_232  \t  i       -1.00e+21 <= -2.646217 <= 0.00e+00\n",
      "\t   g_233  \t  i       -1.00e+21 <= -3.636969 <= 0.00e+00\n",
      "\t   g_234  \t  i       -1.00e+21 <= -0.736177 <= 0.00e+00\n",
      "\t   g_235  \t  i       -1.00e+21 <= -3.452613 <= 0.00e+00\n",
      "\t   g_236  \t  i       -1.00e+21 <= -2.902200 <= 0.00e+00\n",
      "\t   g_237  \t  i       -1.00e+21 <= -3.380985 <= 0.00e+00\n",
      "\t   g_238  \t  i       -1.00e+21 <= -0.630048 <= 0.00e+00\n",
      "\t   g_239  \t  i       -1.00e+21 <= -3.558742 <= 0.00e+00\n",
      "\t   g_240  \t  i       -1.00e+21 <= -3.222415 <= 0.00e+00\n",
      "\t   g_241  \t  i       -1.00e+21 <= -3.060771 <= 0.00e+00\n",
      "\t   g_242  \t  i       -1.00e+21 <= -0.714345 <= 0.00e+00\n",
      "\t   g_243  \t  i       -1.00e+21 <= -3.474445 <= 0.00e+00\n",
      "\t   g_244  \t  i       -1.00e+21 <= -3.585909 <= 0.00e+00\n",
      "\t   g_245  \t  i       -1.00e+21 <= -2.697276 <= 0.00e+00\n",
      "\t   g_246  \t  i       -1.00e+21 <= -0.999211 <= 0.00e+00\n",
      "\t   g_247  \t  i       -1.00e+21 <= -3.189579 <= 0.00e+00\n",
      "\t   g_248  \t  i       -1.00e+21 <= -3.973272 <= 0.00e+00\n",
      "\t   g_249  \t  i       -1.00e+21 <= -2.309913 <= 0.00e+00\n",
      "\t   g_250  \t  i       -1.00e+21 <= -1.446806 <= 0.00e+00\n",
      "\t   g_251  \t  i       -1.00e+21 <= -2.741985 <= 0.00e+00\n",
      "\t   g_252  \t  i       -1.00e+21 <= -4.368983 <= 0.00e+00\n",
      "\t   g_253  \t  i       -1.00e+21 <= -1.914203 <= 0.00e+00\n",
      "\t   g_254  \t  i       -1.00e+21 <= -1.978525 <= 0.00e+00\n",
      "\t   g_255  \t  i       -1.00e+21 <= -2.210266 <= 0.00e+00\n",
      "\t   g_256  \t  i       -1.00e+21 <= -4.760888 <= 0.00e+00\n",
      "\t   g_257  \t  i       -1.00e+21 <= -1.522298 <= 0.00e+00\n",
      "\t   g_258  \t  i       -1.00e+21 <= -2.492381 <= 0.00e+00\n",
      "\t   g_259  \t  i       -1.00e+21 <= -1.696409 <= 0.00e+00\n",
      "\t   g_260  \t  i       -1.00e+21 <= -5.137517 <= 0.00e+00\n",
      "\t   g_261  \t  i       -1.00e+21 <= -1.145668 <= 0.00e+00\n",
      "\t   g_262  \t  i       -1.00e+21 <= -2.886112 <= 0.00e+00\n",
      "\t   g_263  \t  i       -1.00e+21 <= -1.302678 <= 0.00e+00\n",
      "\t   g_264  \t  i       -1.00e+21 <= -5.484695 <= 0.00e+00\n",
      "\t   g_265  \t  i       -1.00e+21 <= -0.798490 <= 0.00e+00\n",
      "\t   g_266  \t  i       -1.00e+21 <= -3.080230 <= 0.00e+00\n",
      "\t   g_267  \t  i       -1.00e+21 <= -1.108560 <= 0.00e+00\n",
      "\t   g_268  \t  i       -1.00e+21 <= -5.783190 <= 0.00e+00\n",
      "\t   g_269  \t  i       -1.00e+21 <= -0.499995 <= 0.00e+00\n",
      "\t   g_270  \t  i       -1.00e+21 <= -3.035385 <= 0.00e+00\n",
      "\t   g_271  \t  i       -1.00e+21 <= -1.153405 <= 0.00e+00\n",
      "\t   g_272  \t  i       -1.00e+21 <= -6.008839 <= 0.00e+00\n",
      "\t   g_273  \t  i       -1.00e+21 <= -0.274346 <= 0.00e+00\n",
      "\t   g_274  \t  i       -1.00e+21 <= -2.759987 <= 0.00e+00\n",
      "\t   g_275  \t  i       -1.00e+21 <= -1.428803 <= 0.00e+00\n",
      "\t   g_276  \t  i       -1.00e+21 <= -6.135743 <= 0.00e+00\n",
      "\t   g_277  \t  i       -1.00e+21 <= -0.147443 <= 0.00e+00\n",
      "\t   g_278  \t  i       -1.00e+21 <= -2.306613 <= 0.00e+00\n",
      "\t   g_279  \t  i       -1.00e+21 <= -1.882177 <= 0.00e+00\n",
      "\t   g_280  \t  i       -1.00e+21 <= -6.142078 <= 0.00e+00\n",
      "\t   g_281  \t  i       -1.00e+21 <= -0.141107 <= 0.00e+00\n",
      "\t   g_282  \t  i       -1.00e+21 <= -1.758579 <= 0.00e+00\n",
      "\t   g_283  \t  i       -1.00e+21 <= -2.430211 <= 0.00e+00\n",
      "\t   g_284  \t  i       -1.00e+21 <= -6.017079 <= 0.00e+00\n",
      "\t   g_285  \t  i       -1.00e+21 <= -0.266107 <= 0.00e+00\n",
      "\t   g_286  \t  i       -1.00e+21 <= -1.210457 <= 0.00e+00\n",
      "\t   g_287  \t  i       -1.00e+21 <= -2.978333 <= 0.00e+00\n",
      "\t   g_288  \t  i       -1.00e+21 <= -5.767109 <= 0.00e+00\n",
      "\t   g_289  \t  i       -1.00e+21 <= -0.516076 <= 0.00e+00\n",
      "\t   g_290  \t  i       -1.00e+21 <= -0.747617 <= 0.00e+00\n",
      "\t   g_291  \t  i       -1.00e+21 <= -3.441173 <= 0.00e+00\n",
      "\n",
      "--------------------------------------------------------------------------------\n",
      "\n"
     ]
    }
   ],
   "source": [
    "from trajectory_optimization import TrajOptimizer\n",
    "from trajectory_optimization import TrajPlotter\n",
    "from numpy import deg2rad\n",
    "\n",
    "\n",
    "\n",
    "base_freq = 0.05\n",
    "fourier_order = 6\n",
    "\n",
    "joint_constraints = []\n",
    "cartesian_constraints = []\n",
    "\n",
    "\n",
    "joint_constraints = [(1, deg2rad(-180), deg2rad(180), deg2rad(-120), deg2rad(120))\n",
    "                     ]\n",
    "\n",
    "    \n",
    "traj_optimizer = TrajOptimizer(rbt, fourier_order, base_freq,\n",
    "                               joint_constraints=joint_constraints,\n",
    "                               cartesian_constraints = cartesian_constraints)\n",
    "                                                                                                 \n",
    "                                                                                                                     \n",
    "traj_optimizer.optimize()"
   ]
  },
  {
   "cell_type": "markdown",
   "metadata": {},
   "source": [
    "## plot excited trajectory"
   ]
  },
  {
   "cell_type": "code",
   "execution_count": 99,
   "metadata": {},
   "outputs": [
    {
     "data": {
      "image/png": "[encoded data removed]",
      "text/plain": [
       "<Figure size 864x576 with 3 Axes>"
      ]
     },
     "metadata": {
      "needs_background": "light"
     },
     "output_type": "display_data"
    }
   ],
   "source": [
    "# %matplotlib qt \n",
    "\n",
    "import matplotlib.pyplot as plt\n",
    "plt.rcParams['figure.figsize'] = [12,8]\n",
    "\n",
    "traj_plotter = TrajPlotter(traj_optimizer.fourier_traj,traj_optimizer.frame_traj,\n",
    "                           traj_optimizer.const_frame_ind)\n",
    "traj_plotter.plot_desired_traj(traj_optimizer.x_result)"
   ]
  },
  {
   "cell_type": "markdown",
   "metadata": {},
   "source": [
    "## save trajectory"
   ]
  },
  {
   "cell_type": "code",
   "execution_count": 100,
   "metadata": {},
   "outputs": [],
   "source": [
    "from utils import save_data, load_data\n",
    "\n",
    "trajectory_name = 'onedof'\n",
    "trajectory_folder =  'data/trajectories/'\n",
    "\n",
    "dof_order_bf_x_norm = (traj_optimizer.fourier_traj.dof, fourier_order,\n",
    "                       base_freq, traj_optimizer.x_result, [])\n",
    "save_data(trajectory_folder, trajectory_name, dof_order_bf_x_norm)\n",
    "\n",
    "freq = 50\n",
    "tf = 65 # including 5 seconds' prestable time\n",
    "traj_optimizer.make_traj_csv(trajectory_folder, trajectory_name, freq, tf)"
   ]
  },
  {
   "cell_type": "markdown",
   "metadata": {},
   "source": [
    "## display trajectory param"
   ]
  },
  {
   "cell_type": "code",
   "execution_count": 101,
   "metadata": {},
   "outputs": [
    {
     "data": {
      "text/html": [
       "<table>\n",
       "<tbody>\n",
       "<tr><td>joint</td><td>qo    </td><td>a1   </td><td>a2    </td><td>a3    </td><td>a4    </td><td>a5    </td><td>a6     </td><td>b1    </td><td>b2     </td><td>b3   </td><td>b4    </td><td>b5     </td><td>b6    </td></tr>\n",
       "<tr><td>q1   </td><td>0.0244</td><td>-0.23</td><td>0.0866</td><td>0.4833</td><td>0.4988</td><td>0.3949</td><td>-0.1345</td><td>0.7408</td><td>-0.1692</td><td>0.133</td><td>0.4361</td><td>-0.3438</td><td>0.5498</td></tr>\n",
       "</tbody>\n",
       "</table>"
      ],
      "text/plain": [
       "<IPython.core.display.HTML object>"
      ]
     },
     "metadata": {},
     "output_type": "display_data"
    }
   ],
   "source": [
    "from IPython.display import HTML, display\n",
    "import tabulate\n",
    "import numpy as np\n",
    "\n",
    "table = []\n",
    "table.append([\"joint\", 'qo'] +\n",
    "             [\"a\"+str(i+1) for i in range(fourier_order)] +\n",
    "             [\"b\"+str(i+1) for i in range(fourier_order)])\n",
    "for i in range(traj_optimizer.fourier_traj.dof):\n",
    "    line = []\n",
    "    line.append(rbt.rbtdef.q[i])\n",
    "    line += np.round(traj_optimizer.x_result[i*(1 + fourier_order*2): (i+1)*(1 + fourier_order*2)], 4).tolist()\n",
    "    table.append(line)\n",
    "\n",
    "display(HTML(tabulate.tabulate(table, tablefmt='html')))"
   ]
  },
  {
   "cell_type": "markdown",
   "metadata": {},
   "source": [
    "3 - Regression Data Processing\n",
    "=============================="
   ]
  },
  {
   "cell_type": "code",
   "execution_count": 102,
   "metadata": {},
   "outputs": [],
   "source": [
    "import os\n",
    "import pickle\n",
    "import math\n",
    "import sympy\n",
    "import numpy\n",
    "import sympybotics"
   ]
  },
  {
   "cell_type": "code",
   "execution_count": 103,
   "metadata": {},
   "outputs": [],
   "source": [
    "with open(tmpfolder +  'robotmodels/onedof_model.pkl', 'rb' ) as file:\n",
    "          rbt = pickle.load( file )"
   ]
  },
  {
   "cell_type": "markdown",
   "metadata": {},
   "source": [
    "### Data Load"
   ]
  },
  {
   "cell_type": "code",
   "execution_count": 104,
   "metadata": {},
   "outputs": [],
   "source": [
    "parms_traj = 'traj1'"
   ]
  },
  {
   "cell_type": "code",
   "execution_count": 105,
   "metadata": {},
   "outputs": [
    {
     "name": "stdout",
     "output_type": "stream",
     "text": [
      "(<type 'numpy.ndarray'>, (2990, 3))\n"
     ]
    }
   ],
   "source": [
    "from support_funcs.regr_data_proc import load_trajectory_data\n",
    "\n",
    "training_results_data_file = datafolder +'recdata/' + 'onedof_'+parms_traj+'_results.csv'\n",
    "\n",
    "trajectory_sampling_rate = 50\n",
    "t_raw, q_raw, dq_raw, tau_raw = load_trajectory_data(training_results_data_file,\n",
    "                                                                   trajectory_sampling_rate)"
   ]
  },
  {
   "cell_type": "markdown",
   "metadata": {},
   "source": [
    "### Some Plots"
   ]
  },
  {
   "cell_type": "code",
   "execution_count": 106,
   "metadata": {},
   "outputs": [
    {
     "data": {
      "image/png": "[encoded data removed]",
      "text/plain": [
       "<Figure size 864x576 with 1 Axes>"
      ]
     },
     "metadata": {
      "needs_background": "light"
     },
     "output_type": "display_data"
    }
   ],
   "source": [
    "from matplotlib import pyplot as plt\n",
    "plt.close()\n",
    "\n",
    "# for d in range(rbt.dof):\n",
    "#     co_num = str(d + 1)\n",
    "#     plt.plot(t_raw, q_raw[:, d], label=(r\"$q_\" + co_num +\"$\"), linestyle= (0, ()))\n",
    "    \n",
    "for i in range(q_raw.shape[1]):\n",
    "    plt.plot(t_raw,q_raw[:,i])\n",
    "\n",
    "plt.show()"
   ]
  },
  {
   "cell_type": "code",
   "execution_count": 107,
   "metadata": {},
   "outputs": [
    {
     "data": {
      "image/png": "[encoded data removed]",
      "text/plain": [
       "<Figure size 864x576 with 1 Axes>"
      ]
     },
     "metadata": {
      "needs_background": "light"
     },
     "output_type": "display_data"
    }
   ],
   "source": [
    "from matplotlib import pyplot as plt\n",
    "plt.close()\n",
    "\n",
    "joint = 1\n",
    "# plt.plot(t_ref+0.20,q_ref[:,joint-1])\n",
    "plt.plot(t_raw,q_raw[:,joint-1])\n",
    "\n",
    "plt.show()"
   ]
  },
  {
   "cell_type": "code",
   "execution_count": 108,
   "metadata": {},
   "outputs": [],
   "source": [
    "del t_raw, q_raw, dq_raw,tau_raw"
   ]
  },
  {
   "cell_type": "markdown",
   "metadata": {},
   "source": [
    "### Parameter Load"
   ]
  },
  {
   "cell_type": "code",
   "execution_count": 110,
   "metadata": {},
   "outputs": [
    {
     "name": "stdout",
     "output_type": "stream",
     "text": [
      "dof: 1\n",
      "Fourier order: 6\n",
      "Base frequency: 0.05\n"
     ]
    }
   ],
   "source": [
    "from utils import save_data, load_data\n",
    "\n",
    "training_trajectory_name = 'onedof_traj1'\n",
    "\n",
    "\n",
    "trajectory_folder = datafolder +'trajectories/'\n",
    "dof, fourier_order, base_freq, traj_optimizer_result, reg_norm_mat = load_data(trajectory_folder,\n",
    "                                                                               training_trajectory_name)\n",
    "print(\"dof: {}\".format(dof))\n",
    "print(\"Fourier order: {}\".format(fourier_order))\n",
    "print(\"Base frequency: {}\".format(base_freq))"
   ]
  },
  {
   "cell_type": "markdown",
   "metadata": {},
   "source": [
    "### Filter Cut-off Frequency Definition"
   ]
  },
  {
   "cell_type": "code",
   "execution_count": 111,
   "metadata": {},
   "outputs": [
    {
     "name": "stdout",
     "output_type": "stream",
     "text": [
      "Cut frequency: 3.0\n"
     ]
    }
   ],
   "source": [
    "# times of the highest frequency in the Fourier series\n",
    "fc_mult = 10.0\n",
    "\n",
    "fc = base_freq * fourier_order * fc_mult\n",
    "print(\"Cut frequency: {}\".format(fc))"
   ]
  },
  {
   "cell_type": "code",
   "execution_count": 112,
   "metadata": {},
   "outputs": [],
   "source": [
    "fc_q = fc\n",
    "fc_dq = fc\n",
    "fc_ddq = fc\n",
    "\n",
    "fc_tau =  fc\n",
    "\n",
    "si = 200\n",
    "sf = -200"
   ]
  },
  {
   "cell_type": "markdown",
   "metadata": {},
   "source": [
    "### Data Filtering, Differentiation and Regression Data Generation"
   ]
  },
  {
   "cell_type": "code",
   "execution_count": 113,
   "metadata": {},
   "outputs": [],
   "source": [
    "rec_h = 0.02"
   ]
  },
  {
   "cell_type": "code",
   "execution_count": 114,
   "metadata": {},
   "outputs": [],
   "source": [
    "from support_funcs.regr_data_proc import load_trajectory_data, plot_trajectory_data, \\\n",
    "                                            diff_and_filt_data, gen_regr_matrices\n",
    "\n",
    "\n",
    "def process_regression_data(traj_name):\n",
    "#     t_raw, q_raw, tau_raw, t_ref, q_ref = read_data(dof=rbt.dof, h=rec_h,\n",
    "#                                                     rbtlogfile=datafolder + 'recdata/rbtlog_%s.dat'%traj_name,\n",
    "#                                                     trajreffile=datafolder + 'trajectories/%s.dat'%traj_name)\n",
    "    \n",
    "    training_results_data_file = datafolder +'recdata/' + 'onedof_%s_results.csv'%traj_name\n",
    "    trajectory_sampling_rate = 50\n",
    "    t_raw, q_raw, dq_raw, tau_raw = load_trajectory_data(training_results_data_file,\n",
    "                                                                   trajectory_sampling_rate)\n",
    "    \n",
    "    q, dq, ddq, tau = diff_and_filt_data(dof=rbt.dof, h=rec_h,  q_raw=q_raw, tau_raw=tau_raw,\n",
    "                                   fc_q=fc_q, fc_dq=fc_dq, fc_ddq=fc_ddq, fc_tau=fc_tau)\n",
    "    \n",
    "    t_raw = t_raw[si:sf]; q_raw = q_raw[si:sf]; tau_raw = tau_raw[si:sf]\n",
    "    q = q[si:sf]; dq = dq[si:sf]; ddq = ddq[si:sf]; tau = tau[si:sf]\n",
    "    \n",
    "    t_raw = t_raw - t_raw[0]\n",
    "    \n",
    "    t = numpy.array(range(q.shape[0])) * rec_h\n",
    "    \n",
    "    W, omega, Q1, R1, rho1 = gen_regr_matrices(rbt, q, dq, ddq, tau)\n",
    "    \n",
    "    return t_raw, q_raw, tau_raw, t, q, dq, ddq, tau, W, omega, Q1, R1, rho1"
   ]
  },
  {
   "cell_type": "code",
   "execution_count": 286,
   "metadata": {},
   "outputs": [
    {
     "name": "stdout",
     "output_type": "stream",
     "text": [
      ">>>>>>>> traj4 proc <<<<<<<<<\n",
      "(<type 'numpy.ndarray'>, (2990, 3))\n",
      "CPU times: user 76.8 ms, sys: 4.02 ms, total: 80.8 ms\n",
      "Wall time: 78.9 ms\n",
      " (cond=5.943057)\n",
      "traj4 save\n",
      "CPU times: user 56.7 ms, sys: 4.37 ms, total: 61 ms\n",
      "Wall time: 17.9 ms\n",
      "plot shape: 410\n"
     ]
    },
    {
     "data": {
      "image/png": "[encoded data removed]",
      "text/plain": [
       "<Figure size 864x576 with 4 Axes>"
      ]
     },
     "metadata": {
      "needs_background": "light"
     },
     "output_type": "display_data"
    }
   ],
   "source": [
    "from support_funcs.utils import _fprint\n",
    "from support_funcs.regr_data_proc import plot_trajectory_data\n",
    "\n",
    "for traj in ['traj4']:      #, 'traj2', 'traj3', 'traj4'\n",
    "    _fprint('>>>>>>>> %s proc <<<<<<<<<'%traj)\n",
    "    %time t_raw, q_raw, tau_raw, t, q, dq, ddq, tau, W, omega, Q1, R1, rho1 = process_regression_data(traj)\n",
    "    \n",
    "    _fprint(' (cond=%f)'%numpy.linalg.cond(W))\n",
    "    \n",
    "    _fprint('%s save'%traj)\n",
    "    \n",
    "    %time \\\n",
    "    numpy.savez_compressed(tmpfolder + 'procdata/' + traj + '_raw', t=t_raw, q=q_raw, tau=tau_raw);\\\n",
    "    numpy.savez_compressed(tmpfolder + 'procdata/' + traj + '_proc', t=t, q=q, dq=dq, ddq=ddq, tau=tau); \\\n",
    "    numpy.savez_compressed(tmpfolder + 'procdata/' + traj + '_regr', W=W, omega=omega, Q1=Q1, R1=R1, rho1=rho1)\n",
    "    \n",
    "    import matplotlib.pyplot as plt\n",
    "    plt.rcParams['figure.figsize'] = [12,8]\n",
    "    plot_trajectory_data(t, q_raw, q, dq, ddq,\n",
    "                     tau_raw, tau)\n",
    "    \n",
    "    del t_raw, q_raw, tau_raw, t, q, dq, ddq, tau, W, omega, Q1, R1, rho1"
   ]
  },
  {
   "cell_type": "markdown",
   "metadata": {},
   "source": [
    "### Plot"
   ]
  },
  {
   "cell_type": "code",
   "execution_count": 116,
   "metadata": {},
   "outputs": [],
   "source": [
    "raw = numpy.load(tmpfolder + 'procdata/traj1_raw.npz')\n",
    "tau_raw = raw['tau']\n",
    "q_raw = raw['q']\n",
    "del raw\n",
    "proc = numpy.load(tmpfolder + 'procdata/traj1_proc.npz')\n",
    "t = proc['t']\n",
    "tau = proc['tau']\n",
    "q = proc['q']\n",
    "dq = proc['dq']\n",
    "del proc"
   ]
  },
  {
   "cell_type": "code",
   "execution_count": 117,
   "metadata": {},
   "outputs": [
    {
     "data": {
      "image/png": "[encoded data removed]",
      "text/plain": [
       "<Figure size 864x576 with 1 Axes>"
      ]
     },
     "metadata": {
      "needs_background": "light"
     },
     "output_type": "display_data"
    }
   ],
   "source": [
    "from matplotlib import pyplot as plt\n",
    "plt.close()\n",
    "\n",
    "joint = 1\n",
    "firsts = 20000\n",
    "plt.plot(t[:firsts],q_raw[:,joint-1][:firsts])\n",
    "plt.plot(t[:firsts],q[:,joint-1][:firsts])\n",
    "#plt.plot(t[:firsts],dq[:,joint-1][:firsts])\n",
    "plt.plot(t[:firsts],tau_raw[:,joint-1][:firsts])\n",
    "\n",
    "plt.show()"
   ]
  },
  {
   "cell_type": "code",
   "execution_count": 118,
   "metadata": {},
   "outputs": [],
   "source": [
    "del t, q, dq, tau, q_raw, tau_raw"
   ]
  },
  {
   "cell_type": "markdown",
   "metadata": {},
   "source": [
    "4 - Dynamic Parameter Estimation\n",
    "================================"
   ]
  },
  {
   "cell_type": "code",
   "execution_count": 119,
   "metadata": {},
   "outputs": [],
   "source": [
    "import os\n",
    "import pickle\n",
    "import sympy\n",
    "import numpy\n",
    "import time\n",
    "\n",
    "import sympybotics\n",
    "import lmi_sdp\n",
    "\n",
    "from lmi_sdp import init_lmi_latex_printing\n",
    "init_lmi_latex_printing()"
   ]
  },
  {
   "cell_type": "code",
   "execution_count": 120,
   "metadata": {},
   "outputs": [],
   "source": [
    "with open(tmpfolder +  'robotmodels/onedof_model.pkl', 'rb' ) as file:\n",
    "          rbt = pickle.load( file )"
   ]
  },
  {
   "cell_type": "code",
   "execution_count": 121,
   "metadata": {},
   "outputs": [],
   "source": [
    "epsilon_safemargin = 1e-6\n",
    "epsilon_sdptol = 1e-7"
   ]
  },
  {
   "cell_type": "markdown",
   "metadata": {},
   "source": [
    "## LMI Matrix Definitions"
   ]
  },
  {
   "cell_type": "code",
   "execution_count": 122,
   "metadata": {},
   "outputs": [],
   "source": [
    "dof = rbt.dof\n",
    "\n",
    "delta = rbt.dyn.dynparms\n",
    "n_delta = rbt.dyn.n_dynparms\n",
    "\n",
    "beta = rbt.dyn.baseparms.n()\n",
    "n_beta = rbt.dyn.n_base\n",
    "beta_symbs = sympy.Matrix([sympy.Symbol('beta'+str(i+1),real=True) for i in range(n_beta)])\n",
    "\n",
    "delta_d = (rbt.dyn.Pd.T*delta)\n",
    "n_delta_d = len(delta_d)\n",
    "\n",
    "Pb = rbt.dyn.Pb\n",
    "\n",
    "varchange_dict = dict(zip(Pb.T*delta ,  beta_symbs - ( beta - Pb.T*delta )))"
   ]
  },
  {
   "cell_type": "code",
   "execution_count": 123,
   "metadata": {},
   "outputs": [],
   "source": [
    "from support_funcs.utils import skew, mrepl\n",
    "from sympy import BlockMatrix, Matrix, eye, Identity\n",
    "I = Identity\n",
    "S = skew"
   ]
  },
  {
   "cell_type": "code",
   "execution_count": 124,
   "metadata": {},
   "outputs": [],
   "source": [
    "D_inertia_blocks = []\n",
    "for i in range(dof):\n",
    "    L = rbt.rbtdef.L[i]\n",
    "    l = rbt.rbtdef.l[i]\n",
    "    m = rbt.rbtdef.m[i]\n",
    "    Di = BlockMatrix([[L,    S(l).T],\n",
    "                      [S(l), I(3)*m]])\n",
    "    D_inertia_blocks.append(Di.as_explicit())"
   ]
  },
  {
   "cell_type": "code",
   "execution_count": 125,
   "metadata": {},
   "outputs": [
    {
     "data": {
      "text/plain": [
       "Matrix([\n",
       "[L_1xx, L_1xy, L_1xz,     0,  l_1z, -l_1y],\n",
       "[L_1xy, L_1yy, L_1yz, -l_1z,     0,  l_1x],\n",
       "[L_1xz, L_1yz, L_1zz,  l_1y, -l_1x,     0],\n",
       "[    0, -l_1z,  l_1y,   m_1,     0,     0],\n",
       "[ l_1z,     0, -l_1x,     0,   m_1,     0],\n",
       "[-l_1y,  l_1x,     0,     0,     0,   m_1]])"
      ]
     },
     "execution_count": 125,
     "metadata": {},
     "output_type": "execute_result"
    }
   ],
   "source": [
    "D_inertia_blocks[0]"
   ]
  },
  {
   "cell_type": "code",
   "execution_count": 126,
   "metadata": {},
   "outputs": [
    {
     "data": {
      "text/plain": [
       "[]"
      ]
     },
     "execution_count": 126,
     "metadata": {},
     "output_type": "execute_result"
    }
   ],
   "source": [
    "D_other_blocks = []\n",
    "for i in range(dof):\n",
    "    if rbt.rbtdef.driveinertiamodel == 'simplified':\n",
    "        D_other_blocks.append( Matrix([rbt.rbtdef.Ia[i]]) )\n",
    "    if 'viscous' in rbt.rbtdef.frictionmodel:\n",
    "        D_other_blocks.append( Matrix([rbt.rbtdef.fv[i]]) )\n",
    "    if 'Coulomb' in rbt.rbtdef.frictionmodel:\n",
    "        D_other_blocks.append( Matrix([rbt.rbtdef.fc[i]]) )\n",
    "\n",
    "D_other_blocks"
   ]
  },
  {
   "cell_type": "code",
   "execution_count": 127,
   "metadata": {},
   "outputs": [],
   "source": [
    "D_blocks = D_inertia_blocks + D_other_blocks"
   ]
  },
  {
   "cell_type": "code",
   "execution_count": 128,
   "metadata": {},
   "outputs": [
    {
     "data": {
      "text/plain": [
       "[Matrix([\n",
       " [L_1xx, L_1xy, L_1xz,     0,  l_1z, -l_1y],\n",
       " [L_1xy, L_1yy, L_1yz, -l_1z,     0,  l_1x],\n",
       " [L_1xz, L_1yz, L_1zz,  l_1y, -l_1x,     0],\n",
       " [    0, -l_1z,  l_1y,   m_1,     0,     0],\n",
       " [ l_1z,     0, -l_1x,     0,   m_1,     0],\n",
       " [-l_1y,  l_1x,     0,     0,     0,   m_1]])]"
      ]
     },
     "execution_count": 128,
     "metadata": {},
     "output_type": "execute_result"
    }
   ],
   "source": [
    "D_blocks"
   ]
  },
  {
   "cell_type": "markdown",
   "metadata": {},
   "source": [
    "## Change of Variable Space"
   ]
  },
  {
   "cell_type": "code",
   "execution_count": 129,
   "metadata": {},
   "outputs": [],
   "source": [
    "varchange_dict = dict(zip(Pb.T*delta ,  beta_symbs - ( beta - Pb.T*delta )))"
   ]
  },
  {
   "cell_type": "code",
   "execution_count": 130,
   "metadata": {
    "scrolled": true
   },
   "outputs": [
    {
     "data": {
      "text/plain": [
       "[Matrix([\n",
       " [ L_1xx, L_1xy,  L_1xz,     0,   l_1z, -beta3],\n",
       " [ L_1xy, L_1yy,  L_1yz, -l_1z,      0,  beta2],\n",
       " [ L_1xz, L_1yz,  beta1, beta3, -beta2,      0],\n",
       " [     0, -l_1z,  beta3,   m_1,      0,      0],\n",
       " [  l_1z,     0, -beta2,     0,    m_1,      0],\n",
       " [-beta3, beta2,      0,     0,      0,    m_1]])]"
      ]
     },
     "execution_count": 130,
     "metadata": {},
     "output_type": "execute_result"
    }
   ],
   "source": [
    "DB_blocks = [mrepl(Di, varchange_dict) for Di in D_blocks]\n",
    "DB_blocks"
   ]
  },
  {
   "cell_type": "markdown",
   "metadata": {},
   "source": [
    "## LMI Definitions"
   ]
  },
  {
   "cell_type": "code",
   "execution_count": 131,
   "metadata": {},
   "outputs": [],
   "source": [
    "from lmi_sdp import LMI_PD, LMI"
   ]
  },
  {
   "cell_type": "code",
   "execution_count": 132,
   "metadata": {},
   "outputs": [],
   "source": [
    "DB_LMIs = list(map(LMI_PD, DB_blocks))"
   ]
  },
  {
   "cell_type": "code",
   "execution_count": 133,
   "metadata": {},
   "outputs": [
    {
     "data": {
      "text/plain": [
       "Matrix([\n",
       "[ L_1xx, L_1xy,  L_1xz,     0,   l_1z, -beta3],\n",
       "[ L_1xy, L_1yy,  L_1yz, -l_1z,      0,  beta2],\n",
       "[ L_1xz, L_1yz,  beta1, beta3, -beta2,      0],\n",
       "[     0, -l_1z,  beta3,   m_1,      0,      0],\n",
       "[  l_1z,     0, -beta2,     0,    m_1,      0],\n",
       "[-beta3, beta2,      0,     0,      0,    m_1]]) > 0"
      ]
     },
     "execution_count": 133,
     "metadata": {},
     "output_type": "execute_result"
    }
   ],
   "source": [
    "DB_LMIs[0]"
   ]
  },
  {
   "cell_type": "code",
   "execution_count": 134,
   "metadata": {},
   "outputs": [],
   "source": [
    "DB_LMIs_marg = list(map(lambda lm: LMI(lm, epsilon_safemargin*eye(lm.shape[0])) , DB_blocks))"
   ]
  },
  {
   "cell_type": "code",
   "execution_count": 135,
   "metadata": {},
   "outputs": [
    {
     "data": {
      "text/plain": [
       "Matrix([\n",
       "[ L_1xx, L_1xy,  L_1xz,     0,   l_1z, -beta3],\n",
       "[ L_1xy, L_1yy,  L_1yz, -l_1z,      0,  beta2],\n",
       "[ L_1xz, L_1yz,  beta1, beta3, -beta2,      0],\n",
       "[     0, -l_1z,  beta3,   m_1,      0,      0],\n",
       "[  l_1z,     0, -beta2,     0,    m_1,      0],\n",
       "[-beta3, beta2,      0,     0,      0,    m_1]]) >= Matrix([\n",
       "[1.0e-6,      0,      0,      0,      0,      0],\n",
       "[     0, 1.0e-6,      0,      0,      0,      0],\n",
       "[     0,      0, 1.0e-6,      0,      0,      0],\n",
       "[     0,      0,      0, 1.0e-6,      0,      0],\n",
       "[     0,      0,      0,      0, 1.0e-6,      0],\n",
       "[     0,      0,      0,      0,      0, 1.0e-6]])"
      ]
     },
     "execution_count": 135,
     "metadata": {},
     "output_type": "execute_result"
    }
   ],
   "source": [
    "DB_LMIs_marg[0]"
   ]
  },
  {
   "cell_type": "code",
   "execution_count": 136,
   "metadata": {},
   "outputs": [
    {
     "data": {
      "text/plain": [
       "Matrix([\n",
       "[L_1xx - 1.0e-6,          L_1xy,          L_1xz,            0,         l_1z,       -beta3],\n",
       "[         L_1xy, L_1yy - 1.0e-6,          L_1yz,        -l_1z,            0,        beta2],\n",
       "[         L_1xz,          L_1yz, beta1 - 1.0e-6,        beta3,       -beta2,            0],\n",
       "[             0,          -l_1z,          beta3, m_1 - 1.0e-6,            0,            0],\n",
       "[          l_1z,              0,         -beta2,            0, m_1 - 1.0e-6,            0],\n",
       "[        -beta3,          beta2,              0,            0,            0, m_1 - 1.0e-6]]) >= 0"
      ]
     },
     "execution_count": 136,
     "metadata": {},
     "output_type": "execute_result"
    }
   ],
   "source": [
    "DB_LMIs_marg[0].canonical()"
   ]
  },
  {
   "cell_type": "markdown",
   "metadata": {},
   "source": [
    "## SDP Solver Interfaces"
   ]
  },
  {
   "cell_type": "markdown",
   "metadata": {},
   "source": [
    "### [SDPA](http://sdpa.sourceforge.net/)"
   ]
  },
  {
   "cell_type": "code",
   "execution_count": 137,
   "metadata": {},
   "outputs": [],
   "source": [
    "def sdpa(objf, lmis, variables):\n",
    "    sdpadat = lmi_sdp.to_sdpa_sparse(objf, lmis, variables)\n",
    "    with open(tmpfolder + 'sdpa_dat/sdp.dat-s', 'w') as f:\n",
    "        f.write(sdpadat)\n",
    "    \n",
    "    stdout = !sdpa -ds \"$tmpfolder\"sdpa_dat/sdp.dat-s -o \"$tmpfolder\"sdpa_dat/sdpa.out -p \"$tmpfolder\"sdpa_dat/param.sdpa -pt 2\n",
    "    print('\\n'.join(stdout))\n",
    "\n",
    "    outfile = !cat \"$tmpfolder\"sdpa_dat/sdpa.out\n",
    "    sol = [float(v) for v in outfile[outfile.index('xVec = ') + 1].replace('{', '').replace('}', '').split(',')]\n",
    "    return numpy.matrix(sol).T"
   ]
  },
  {
   "cell_type": "markdown",
   "metadata": {},
   "source": [
    "### [CSDP](https://projects.coin-or.org/Csdp/)"
   ]
  },
  {
   "cell_type": "code",
   "execution_count": 103,
   "metadata": {},
   "outputs": [],
   "source": [
    "def csdp(objf, lmis, variables):\n",
    "    sdpadat = lmi_sdp.to_sdpa_sparse(objf, lmis, variables)\n",
    "    with open(tmpfolder + 'sdpa_dat/sdp.dat-s', 'w') as f:\n",
    "        f.write(sdpadat)\n",
    "    \n",
    "    stdout = !cd \"$tmpfolder\"sdpa_dat; csdp sdp.dat-s csdp.out\n",
    "    print('\\n'.join(stdout))\n",
    "\n",
    "    outfile = !cat \"$tmpfolder\"sdpa_dat/csdp.out\n",
    "    sol = [float(v) for v in outfile[0].split()]\n",
    "    return numpy.matrix(sol).T"
   ]
  },
  {
   "cell_type": "markdown",
   "metadata": {},
   "source": [
    "### [DSDP5](doi.org/10.1145/1356052.1356057)"
   ]
  },
  {
   "cell_type": "code",
   "execution_count": 138,
   "metadata": {},
   "outputs": [],
   "source": [
    "def dsdp5(objf, lmis, variables):\n",
    "    sdpadat = lmi_sdp.to_sdpa_sparse(objf, lmis, variables)\n",
    "    with open(tmpfolder + 'sdpa_dat/sdp.dat-s', 'w') as f:\n",
    "        f.write(sdpadat)\n",
    "    \n",
    "    stdout = !cd \"$tmpfolder\"sdpa_dat; dsdp5 sdp.dat-s -save dsdp5.out -gaptol $epsilon_sdptol\n",
    "    print('\\n'.join(stdout))\n",
    "\n",
    "    outfile = !cat \"$tmpfolder\"sdpa_dat/dsdp5.out\n",
    "    sol = [float(v) for v in outfile[0].split()]\n",
    "    return numpy.matrix(sol).T"
   ]
  },
  {
   "cell_type": "markdown",
   "metadata": {},
   "source": [
    "### [DSDP5 through CVXOPT](http://abel.ee.ucla.edu/cvxopt/userguide/coneprog.html#cvxopt.solvers.sdp)"
   ]
  },
  {
   "cell_type": "code",
   "execution_count": 142,
   "metadata": {},
   "outputs": [],
   "source": [
    "def cvxopt_dsdp5(objf, lmis, variables):\n",
    "    import cvxopt.solvers\n",
    "    c, Gs, hs = lmi_sdp.to_cvxopt(objf, lmis, variables)\n",
    "    cvxopt.solvers.options['DSDP_GapTolerance'] = epsilon_sdptol\n",
    "    tic = time.time()\n",
    "    sdpout = cvxopt.solvers.sdp(c, Gs=Gs, hs=hs, solver='dsdp')\n",
    "    toc = time.time()\n",
    "    print(sdpout['status'], ('ATT!: \\'optimal\\' does not necessarlly means feasible'))\n",
    "    print('Elapsed time: %.2f s'%(toc-tic))\n",
    "    return numpy.matrix(sdpout['x'])"
   ]
  },
  {
   "cell_type": "markdown",
   "metadata": {},
   "source": [
    "### [CVXOPT CONELP](http://abel.ee.ucla.edu/cvxopt/userguide/coneprog.html#cvxopt.solvers.sdp)"
   ]
  },
  {
   "cell_type": "code",
   "execution_count": 143,
   "metadata": {},
   "outputs": [],
   "source": [
    "def cvxopt_conelp(objf, lmis, variables):\n",
    "    import cvxopt.solvers\n",
    "    c, Gs, hs = lmi_sdp.to_cvxopt(objf, lmis, variables)\n",
    "    cvxopt.solvers.options['feastol'] = epsilon_sdptol\n",
    "    tic = time.time()\n",
    "    sdpout = cvxopt.solvers.sdp(c, Gs=Gs, hs=hs)\n",
    "    toc = time.time()\n",
    "    print(sdpout['status'])\n",
    "    print('Elapsed time: %.2f s'%(toc-tic))\n",
    "    return numpy.matrix(sdpout['x'])"
   ]
  },
  {
   "cell_type": "markdown",
   "metadata": {},
   "source": [
    "### [Raw SDPA file](http://plato.asu.edu/ftp/sdpa_format.txt)\n",
    "\n",
    "Can be solved online with a *Semidefinite Programming* solver at [NEOS Solvers](http://www.neos-server.org/neos/solvers/index.html)"
   ]
  },
  {
   "cell_type": "code",
   "execution_count": 139,
   "metadata": {},
   "outputs": [],
   "source": [
    "def sdpa_file(objf, lmis, variables):\n",
    "    sdpadat = lmi_sdp.to_sdpa_sparse(objf, lmis, variables)\n",
    "    with open(tmpfolder + 'sdpa_dat/sdpa_input.dat-s', 'w') as f:\n",
    "        f.write(sdpadat)\n",
    "        \n",
    "    print(\"SDPA file saved at: %ssdpa_dat/sdpa_input.dat-s\"%tmpfolder)"
   ]
  },
  {
   "cell_type": "markdown",
   "metadata": {},
   "source": [
    "--------------"
   ]
  },
  {
   "cell_type": "markdown",
   "metadata": {},
   "source": [
    "Setting the default SDP solver:"
   ]
  },
  {
   "cell_type": "code",
   "execution_count": 140,
   "metadata": {},
   "outputs": [],
   "source": [
    "solve_sdp = dsdp5"
   ]
  },
  {
   "cell_type": "markdown",
   "metadata": {},
   "source": [
    "## OLS Regression ($\\hat{\\beta}$)"
   ]
  },
  {
   "cell_type": "code",
   "execution_count": 289,
   "metadata": {},
   "outputs": [],
   "source": [
    "indentification_traj = 'traj4'"
   ]
  },
  {
   "cell_type": "code",
   "execution_count": 290,
   "metadata": {},
   "outputs": [],
   "source": [
    "regr_mats = numpy.load(tmpfolder + 'procdata/' + indentification_traj + '_regr.npz')\n",
    "W = numpy.matrix(regr_mats['W'])\n",
    "omega = numpy.matrix(regr_mats['omega'])\n",
    "R1 = numpy.matrix(regr_mats['R1'])\n",
    "rho1 = numpy.matrix(regr_mats['rho1'])"
   ]
  },
  {
   "cell_type": "code",
   "execution_count": 291,
   "metadata": {},
   "outputs": [
    {
     "data": {
      "text/plain": [
       "2590"
      ]
     },
     "execution_count": 291,
     "metadata": {},
     "output_type": "execute_result"
    }
   ],
   "source": [
    "omega.shape[0] / rbt.dof"
   ]
  },
  {
   "cell_type": "code",
   "execution_count": 292,
   "metadata": {},
   "outputs": [
    {
     "data": {
      "text/plain": [
       "(2590, 3)"
      ]
     },
     "execution_count": 292,
     "metadata": {},
     "output_type": "execute_result"
    }
   ],
   "source": [
    "W.shape"
   ]
  },
  {
   "cell_type": "code",
   "execution_count": 293,
   "metadata": {},
   "outputs": [
    {
     "data": {
      "text/plain": [
       "5.943056535936258"
      ]
     },
     "execution_count": 293,
     "metadata": {},
     "output_type": "execute_result"
    }
   ],
   "source": [
    "numpy.linalg.cond(W)"
   ]
  },
  {
   "cell_type": "code",
   "execution_count": 294,
   "metadata": {},
   "outputs": [
    {
     "name": "stdout",
     "output_type": "stream",
     "text": [
      "CPU times: user 382 µs, sys: 31 µs, total: 413 µs\n",
      "Wall time: 329 µs\n"
     ]
    }
   ],
   "source": [
    "%time beta_ols = (R1.T * R1).I * R1.T * rho1"
   ]
  },
  {
   "cell_type": "code",
   "execution_count": 295,
   "metadata": {},
   "outputs": [],
   "source": [
    "numpy.savetxt(tmpfolder + 'solutions/' + indentification_traj + '_beta_ols.dat', beta_ols)"
   ]
  },
  {
   "cell_type": "code",
   "execution_count": 296,
   "metadata": {},
   "outputs": [],
   "source": [
    "rho2_norm_sqr = numpy.linalg.norm(omega - W * beta_ols)**2"
   ]
  },
  {
   "cell_type": "markdown",
   "metadata": {},
   "source": [
    "### plot measured and predicted torque"
   ]
  },
  {
   "cell_type": "code",
   "execution_count": 297,
   "metadata": {},
   "outputs": [
    {
     "data": {
      "image/png": "[encoded data removed]",
      "text/plain": [
       "<Figure size 864x576 with 1 Axes>"
      ]
     },
     "metadata": {
      "needs_background": "light"
     },
     "output_type": "display_data"
    }
   ],
   "source": [
    "from support_funcs.regr_data_proc import  plot_meas_pred_tau\n",
    "\n",
    "import matplotlib.pyplot as plt\n",
    "plt.rcParams['figure.figsize'] = [12,8]\n",
    "\n",
    "proc = numpy.load(tmpfolder + 'procdata/' + indentification_traj + '_proc.npz')\n",
    "t = proc['t']\n",
    "tau = proc['tau']\n",
    "\n",
    "tau_p = np.zeros(tau.shape)\n",
    "tau_ps = W.dot(beta_ols)\n",
    "for i in range(dof):\n",
    "    tau_p[:, i] = tau_ps[i::dof].flatten()\n",
    "\n",
    "base_freq = 0.05    \n",
    "trajectory_sampling_rate = 50\n",
    "plot_data_num = int(1 / base_freq * trajectory_sampling_rate)\n",
    "plot_meas_pred_tau(t[:plot_data_num], tau[:plot_data_num, :],\n",
    "                   tau_p[:plot_data_num, :])"
   ]
  },
  {
   "cell_type": "markdown",
   "metadata": {},
   "source": [
    "## Weighted Least Square (WLS)"
   ]
  },
  {
   "cell_type": "code",
   "execution_count": 298,
   "metadata": {},
   "outputs": [
    {
     "name": "stdout",
     "output_type": "stream",
     "text": [
      "weight: \n",
      "[22.04931097]\n"
     ]
    }
   ],
   "source": [
    "proc = numpy.load(tmpfolder + 'procdata/' + indentification_traj + '_proc.npz')\n",
    "t = proc['t']\n",
    "tau = proc['tau']\n",
    "\n",
    "weight = np.max(tau, axis=0) - np.min(tau, axis=0)\n",
    "print(\"weight: \")\n",
    "print(weight)\n",
    "\n",
    "\n",
    "# repeat the weight to generate a large vecoter for all the data\n",
    "weights = 1.0/np.tile(weight, W.shape[0]/weight.shape[0])"
   ]
  },
  {
   "cell_type": "code",
   "execution_count": 299,
   "metadata": {},
   "outputs": [
    {
     "data": {
      "text/plain": [
       "array([0.04535289, 0.04535289, 0.04535289, 0.04535289, 0.04535289,\n",
       "       0.04535289])"
      ]
     },
     "execution_count": 299,
     "metadata": {},
     "output_type": "execute_result"
    }
   ],
   "source": [
    "weights[0:6]"
   ]
  },
  {
   "cell_type": "code",
   "execution_count": 300,
   "metadata": {},
   "outputs": [],
   "source": [
    "W_wls = np.multiply(W, np.asmatrix(weights).transpose())\n",
    "omega_wls = np.multiply(omega.T, weights).T\n",
    "Q1_wls,R1_wls = numpy.linalg.qr(W_wls)\n",
    "rho1_wls = Q1_wls.T*omega_wls"
   ]
  },
  {
   "cell_type": "code",
   "execution_count": 301,
   "metadata": {},
   "outputs": [
    {
     "name": "stdout",
     "output_type": "stream",
     "text": [
      "CPU times: user 1.14 ms, sys: 89 µs, total: 1.22 ms\n",
      "Wall time: 752 µs\n"
     ]
    }
   ],
   "source": [
    "%time beta_wls = (R1_wls.T * R1_wls).I * R1_wls.T * rho1_wls"
   ]
  },
  {
   "cell_type": "code",
   "execution_count": 302,
   "metadata": {},
   "outputs": [],
   "source": [
    "numpy.savetxt(tmpfolder + 'solutions/' + indentification_traj + '_beta_wls.dat', beta_wls)"
   ]
  },
  {
   "cell_type": "code",
   "execution_count": 303,
   "metadata": {},
   "outputs": [],
   "source": [
    "rho2_norm_sqr_wls = numpy.linalg.norm(omega_wls - W_wls * beta_wls)**2"
   ]
  },
  {
   "cell_type": "markdown",
   "metadata": {},
   "source": [
    "### plot measured and predicted torque"
   ]
  },
  {
   "cell_type": "code",
   "execution_count": 304,
   "metadata": {},
   "outputs": [
    {
     "data": {
      "image/png": "[encoded data removed]",
      "text/plain": [
       "<Figure size 864x576 with 1 Axes>"
      ]
     },
     "metadata": {
      "needs_background": "light"
     },
     "output_type": "display_data"
    }
   ],
   "source": [
    "from support_funcs.regr_data_proc import  plot_meas_pred_tau\n",
    "\n",
    "import matplotlib.pyplot as plt\n",
    "plt.rcParams['figure.figsize'] = [12,8]\n",
    "\n",
    "proc = numpy.load(tmpfolder + 'procdata/' + indentification_traj + '_proc.npz')\n",
    "t = proc['t']\n",
    "tau = proc['tau']\n",
    "\n",
    "tau_p = np.zeros(tau.shape)\n",
    "tau_ps = W.dot(beta_wls)\n",
    "for i in range(dof):\n",
    "    tau_p[:, i] = tau_ps[i::dof].flatten()\n",
    "\n",
    "base_freq = 0.05    \n",
    "trajectory_sampling_rate = 50\n",
    "plot_data_num = int(1 / base_freq * trajectory_sampling_rate)\n",
    "plot_meas_pred_tau(t[:plot_data_num], tau[:plot_data_num, :],\n",
    "                   tau_p[:plot_data_num, :])"
   ]
  },
  {
   "cell_type": "markdown",
   "metadata": {},
   "source": [
    "### Base Parameter Feasibility Test (BPFT) of OLS Solution"
   ]
  },
  {
   "cell_type": "code",
   "execution_count": 305,
   "metadata": {},
   "outputs": [],
   "source": [
    "dict_subs = dict(zip(beta_symbs, beta_wls.flatten().tolist()[0]))\n",
    "lmis_ols_bpft = [ lmi_sdp.LMI_PD(mrepl(lmi.canonical().gts, dict_subs)) for lmi in DB_LMIs ]"
   ]
  },
  {
   "cell_type": "code",
   "execution_count": 306,
   "metadata": {},
   "outputs": [
    {
     "data": {
      "text/plain": [
       "Matrix([\n",
       "[             L_1xx,                 L_1xy,                L_1xz,                   0,                 l_1z,    0.0798258216521998],\n",
       "[             L_1xy,                 L_1yy,                L_1yz,               -l_1z,                    0, -0.000475646572722181],\n",
       "[             L_1xz,                 L_1yz,     5.46444082207529, -0.0798258216521998, 0.000475646572722181,                     0],\n",
       "[                 0,                 -l_1z,  -0.0798258216521998,                 m_1,                    0,                     0],\n",
       "[              l_1z,                     0, 0.000475646572722181,                   0,                  m_1,                     0],\n",
       "[0.0798258216521998, -0.000475646572722181,                    0,                   0,                    0,                   m_1]]) > 0"
      ]
     },
     "execution_count": 306,
     "metadata": {},
     "output_type": "execute_result"
    }
   ],
   "source": [
    "lmis_ols_bpft[0]"
   ]
  },
  {
   "cell_type": "code",
   "execution_count": 307,
   "metadata": {},
   "outputs": [],
   "source": [
    "variables_ols_bpft = list(delta_d)\n",
    "objf_ols_bpft = 0  # no objective function - \"find\" problem"
   ]
  },
  {
   "cell_type": "markdown",
   "metadata": {},
   "source": [
    "Testing with all solvers\n",
    "\n",
    "**Just one of the following calls is sufficient to show feasibility/infeasibility**"
   ]
  },
  {
   "cell_type": "code",
   "execution_count": 308,
   "metadata": {},
   "outputs": [
    {
     "name": "stdout",
     "output_type": "stream",
     "text": [
      "SDPA file saved at: tmp/sdpa_dat/sdpa_input.dat-s\n"
     ]
    }
   ],
   "source": [
    "sol = sdpa_file(objf_ols_bpft, lmis_ols_bpft, variables_ols_bpft) # One can solve the output file at http://www.neos-server.org/neos/solvers/sdp:DSDP/SDPA.html for example."
   ]
  },
  {
   "cell_type": "code",
   "execution_count": 309,
   "metadata": {},
   "outputs": [
    {
     "name": "stdout",
     "output_type": "stream",
     "text": [
      "sdp.dat-s -save dsdp5.out -gaptol 1e-07 \n",
      "\n",
      "Variables 7 \n",
      "Matrix Blocks: 1, Total Number of Constraints: 6 \n",
      "Nonzeros in Constraints: 15\n",
      "\n",
      "Read Data File into Buffer:      6.080e-05 seconds\n",
      "DSDP Set Data:                   6.700e-05 seconds\n",
      "DSDP Process Data:               6.008e-05 seconds\n",
      "\n",
      "Data Norms: C: 5.47e+00, A: 3.87e+00, b: 0.00e+00\n",
      "Scale C: 7.08e-01\n",
      "\n",
      "Potential Parameter: 5.00\n",
      "Reapply Schur matrix: 4\n",
      "\n",
      "Iter   PP Objective      DD Objective    PInfeas   DInfeas     Nu     StepLength   Pnrm\n",
      "---------------------------------------------------------------------------------------\n",
      "0     1.00000000e+10   -4.36543761e+09   1.0e+00   4.4e+01   4.4e+09  0.00  0.00   0.00 \n",
      "10    2.04138633e+05    0.00000000e+00   6.5e-04   0.0e+00   9.1e+02  1.00  1.00   0.59 \n",
      "18    4.06053146e-08    0.00000000e+00   7.9e-16   0.0e+00   3.3e-11  1.00  1.00   0.00 \n",
      "DSDP Converged. \n",
      "\n",
      "P Objective  :   2.03573017e-09 \n",
      "DSDP Solution:   0.00000000e+00 \n",
      "\n",
      "DSDP Solve Time:                     1.293e-03 seconds\n",
      "DSDP Preparation and Solve Time:     1.353e-03 seconds\n",
      "\n",
      "\n",
      "P Infeasible: 3.32e-12 \n",
      "D Infeasible: 0.00e+00 \n",
      "Minimal P Eigenvalue: 0.00e+00 \n",
      "Minimal D Eigenvalue: 0.00 \n",
      "Relative P - D Objective values: 2.04e-09 \n",
      "Relative X Dot S: 3.48e-05 \n",
      "\n",
      "Max Y: 7.74596669e+06,  Bounded by 1.0e+07\n",
      "Trace X: 3.77542841e-10,   Bounded by Penalty Parameter: 1.0e+08 \n",
      "\n",
      "PERFORMANCE SUMMARY\n",
      "                     Event                      Calls    Time(s)   Time(%)\n",
      "--------------------------------------------------------------------------\n",
      "                                   R Cone         402   3.9339e-05   2.74\n",
      "                             Bound Y Cone         402   4.9591e-05   3.46\n",
      "                                 SDP Cone         408   9.2983e-04  64.85\n",
      "                           Cone Setup 1&2           2   2.2173e-05   1.55\n",
      "                            Cone Invert S          63   2.4772e-04  17.28\n",
      "                                 Cone RHS          45   4.6253e-05   3.23\n",
      "                  Cone Compute Newton Eq.          18   1.6594e-04  11.57\n",
      "                   Cone Max P Step Length          18   2.6941e-05   1.88\n",
      "               Cone Compute and Factor SP          24   2.6941e-05   1.88\n",
      "                   Cone Max D Step Length          69   3.2854e-04  22.91\n",
      "                Cone Compute and Factor S          65   1.4400e-04  10.04\n",
      "                           Cone Potential          64   6.0797e-05   4.24\n",
      "                                Cone View          19   5.7220e-06   0.40\n",
      "                           Cone Compute X           1   1.0967e-05   0.76\n",
      "                            SDP VecMatVec         150   2.0981e-05   1.46\n",
      "                                  SDP Dot          83   1.5259e-05   1.06\n",
      "                               SDP SSolve         281   4.4346e-05   3.09\n",
      "                                SDP X+vv'         131   2.0027e-05   1.40\n",
      "                        Factor Newton Eq.          18   1.8597e-05   1.30\n",
      "                         Solve Newton Eq.          83   2.2173e-05   1.55\n",
      "                              Primal Step          18   1.5068e-04  10.51\n",
      "                                Dual Step          18   1.1802e-04   8.23\n",
      "                           Corrector Step          45   5.6005e-04  39.06\n",
      "                                 CG Solve          82   5.0545e-05   3.53\n",
      "                               DSDP Solve           1   1.2760e-03  88.99\n",
      "--------------------------------------------------------------------------\n",
      "--- DSDP Finished ---\n",
      "\n"
     ]
    }
   ],
   "source": [
    "sol = dsdp5(objf_ols_bpft, lmis_ols_bpft, variables_ols_bpft)"
   ]
  },
  {
   "cell_type": "code",
   "execution_count": 162,
   "metadata": {},
   "outputs": [
    {
     "name": "stdout",
     "output_type": "stream",
     "text": [
      "SDPA (Version 7.3.9) start at [Tue Oct 30 15:39:15 2018]\n",
      "set   is STABLE_BUT_SLOW\n",
      "data  is tmp/sdpa_dat/sdp.dat-s : sparse\n",
      "out   is tmp/sdpa_dat/sdpa.out\n",
      "NumThreads  is set as 1\n",
      "Schur computation : DENSE \n",
      "Entering DMUMPS driver with JOB, N, NZ =  -2           0              0\n",
      "   mu      thetaP  thetaD  objP      objD      alphaP  alphaD  beta \n",
      " 0 1.0e+08 1.0e+00 1.0e+00 -0.00e+00 -4.63e+04 8.0e-01 8.0e-01 3.00e-01\n",
      " 1 3.0e+07 2.0e-01 2.0e-01 -0.00e+00 -6.85e+04 8.0e-01 8.0e-01 3.00e-01\n",
      " 2 8.8e+06 4.0e-02 4.0e-02 -0.00e+00 -1.01e+05 8.1e-01 8.0e-01 3.00e-01\n",
      " 3 2.6e+06 7.5e-03 8.0e-03 -0.00e+00 -1.48e+05 8.5e-01 8.0e-01 3.00e-01\n",
      " 4 7.7e+05 1.1e-03 1.6e-03 -0.00e+00 -2.04e+05 1.0e+00 8.0e-01 3.00e-01\n",
      " 5 2.4e+05 8.9e-20 3.2e-04 -0.00e+00 -2.15e+05 8.0e+01 8.0e-01 3.00e-01\n",
      " 6 2.0e+06 8.9e-20 6.4e-05 -0.00e+00 -1.02e+05 8.0e+01 8.0e-01 3.00e-01\n",
      " 7 1.7e+07 8.9e-20 1.3e-05 -0.00e+00 -5.03e+05 8.0e+01 8.0e-01 3.00e-01\n",
      " 8 1.4e+08 8.9e-20 2.6e-06 -0.00e+00 -4.08e+06 8.0e+01 8.0e-01 3.00e-01\n",
      " 9 1.1e+09 8.9e-20 5.1e-07 -0.00e+00 -3.36e+07 8.0e+01 8.0e-01 3.00e-01\n",
      "10 9.3e+09 8.9e-20 1.0e-07 -0.00e+00 -2.77e+08 8.0e+01 1.0e+00 3.00e-01\n",
      "11 2.8e+09 8.9e-20 2.6e-08 -0.00e+00 -2.78e+09 8.0e+01 1.0e+00 3.00e-01\n",
      "12 8.3e+08 8.9e-20 7.7e-09 -0.00e+00 -8.34e+08 8.0e+01 1.0e+00 3.00e-01\n",
      "13 2.5e+08 8.9e-20 2.3e-09 -0.00e+00 -2.50e+08 8.0e+01 1.0e+00 3.00e-01\n",
      "14 7.5e+07 8.9e-20 6.9e-10 -0.00e+00 -7.51e+07 8.0e+01 1.0e+00 3.00e-01\n",
      "15 2.3e+07 8.9e-20 2.1e-10 -0.00e+00 -2.25e+07 8.0e+01 1.0e+00 3.00e-01\n",
      "16 6.8e+06 8.9e-20 6.3e-11 -0.00e+00 -6.76e+06 8.0e+01 1.0e+00 3.00e-01\n",
      "17 2.0e+06 8.9e-20 1.9e-11 -0.00e+00 -2.03e+06 8.0e+01 1.0e+00 3.00e-01\n",
      "18 6.1e+05 8.9e-20 5.6e-12 -0.00e+00 -6.08e+05 8.0e+01 1.0e+00 3.00e-01\n",
      "19 1.8e+05 8.9e-20 1.7e-12 -0.00e+00 -1.82e+05 8.0e+01 8.9e-01 1.00e-01\n",
      "20 3.6e+04 8.9e-20 3.4e-13 -0.00e+00 -3.65e+04 8.0e+01 8.9e-01 1.00e-01\n",
      "21 7.3e+03 8.9e-20 6.8e-14 -0.00e+00 -7.30e+03 8.0e+01 8.9e-01 1.00e-01\n",
      "22 1.5e+03 8.9e-20 1.4e-14 -0.00e+00 -1.46e+03 8.0e+01 8.9e-01 1.00e-01\n",
      "23 2.9e+02 8.9e-20 2.7e-15 -0.00e+00 -2.92e+02 8.0e+01 8.9e-01 1.00e-01\n",
      "24 5.8e+01 8.9e-20 5.4e-16 -0.00e+00 -5.84e+01 8.0e+01 8.9e-01 1.00e-01\n",
      "25 1.2e+01 8.9e-20 1.1e-16 -0.00e+00 -1.17e+01 8.0e+01 8.9e-01 1.00e-01\n",
      "26 2.3e+00 8.9e-20 2.2e-17 -0.00e+00 -2.34e+00 8.0e+01 8.9e-01 1.00e-01\n",
      "27 4.7e-01 8.9e-20 4.3e-18 -0.00e+00 -4.67e-01 8.0e+01 8.9e-01 1.00e-01\n",
      "28 9.3e-02 8.9e-20 8.6e-19 -0.00e+00 -9.34e-02 8.0e+01 8.9e-01 1.00e-01\n",
      "29 1.9e-02 8.9e-20 1.7e-19 -0.00e+00 -1.87e-02 8.0e+01 8.9e-01 1.00e-01\n",
      "30 3.7e-03 8.9e-20 3.5e-20 -0.00e+00 -3.74e-03 8.0e+01 8.9e-01 1.00e-01\n",
      "31 7.5e-04 8.9e-20 6.9e-21 -0.00e+00 -7.47e-04 8.0e+01 8.9e-01 1.00e-01\n",
      "32 1.5e-04 8.9e-20 1.4e-21 -0.00e+00 -1.49e-04 8.0e+01 8.9e-01 1.00e-01\n",
      "33 3.0e-05 8.9e-20 2.8e-22 -0.00e+00 -2.99e-05 8.0e+01 8.9e-01 1.00e-01\n",
      "34 6.0e-06 8.9e-20 5.5e-23 -0.00e+00 -5.98e-06 8.0e+01 8.9e-01 1.00e-01\n",
      "35 1.2e-06 8.9e-20 1.1e-23 -0.00e+00 -1.20e-06 8.0e+01 8.9e-01 1.00e-01\n",
      "36 2.4e-07 8.9e-20 2.2e-24 -0.00e+00 -2.39e-07 8.0e+01 8.9e-01 1.00e-01\n",
      "37 4.8e-08 8.9e-20 4.4e-25 -0.00e+00 -4.78e-08 8.0e+01 8.9e-01 1.00e-01\n",
      "\n",
      "phase.value  = pdOPT     \n",
      "   Iteration = 37\n",
      "          mu = +4.7831118009417879e-08\n",
      "relative gap = +4.7831118009417879e-08\n",
      "        gap  = +4.7831118009417879e-08\n",
      "     digits  = -3.0102999566398120e-01\n",
      "objValPrimal = -0.0000000000000000e+00\n",
      "objValDual   = -4.7831118009417879e-08\n",
      "p.feas.error = +8.8817841970012523e-16\n",
      "d.feas.error = +1.3275337176851670e-20\n",
      "total time   = 0.010044\n",
      "  main loop time = 0.009978\n",
      "      total time = 0.010044\n",
      "file  check time = 0.000000\n",
      "file change time = 0.000001\n",
      "file   read time = 0.000065\n",
      "SDPA end at [Tue Oct 30 15:39:15 2018]\n",
      "ALL TIME = 0.018026\n"
     ]
    }
   ],
   "source": [
    "sol = sdpa(objf_ols_bpft, lmis_ols_bpft, variables_ols_bpft)"
   ]
  },
  {
   "cell_type": "code",
   "execution_count": 135,
   "metadata": {},
   "outputs": [
    {
     "name": "stdout",
     "output_type": "stream",
     "text": [
      "This is a pure dual feasibility problem.\n",
      "Iter:  0 Ap: 0.00e+00 Pobj: -3.8296290e+03 Ad: 0.00e+00 Dobj:  0.0000000e+00 \n",
      "Iter:  1 Ap: 8.96e-01 Pobj: -5.2770492e+03 Ad: 8.16e-01 Dobj:  0.0000000e+00 \n",
      "Iter:  2 Ap: 6.30e-01 Pobj: -4.7758728e+03 Ad: 6.04e-01 Dobj:  0.0000000e+00 \n",
      "Iter:  3 Ap: 5.03e-01 Pobj: -4.1867025e+03 Ad: 8.53e-01 Dobj:  0.0000000e+00 \n",
      "Iter:  4 Ap: 8.74e-01 Pobj: -1.5539887e+03 Ad: 4.75e-01 Dobj:  0.0000000e+00 \n",
      "Iter:  5 Ap: 3.90e-01 Pobj:  2.5868012e+00 Ad: 2.09e-01 Dobj:  0.0000000e+00 \n",
      "Iter:  6 Ap: 8.83e-02 Pobj:  2.6946911e+03 Ad: 1.83e-01 Dobj:  0.0000000e+00 \n",
      "Iter:  7 Ap: 3.62e-03 Pobj:  8.0058280e+03 Ad: 1.06e-02 Dobj:  0.0000000e+00 \n",
      "Iter:  8 Ap: 1.61e-02 Pobj:  6.0199514e+04 Ad: 1.30e-02 Dobj:  0.0000000e+00 \n",
      "Iter:  9 Ap: 6.67e-03 Pobj:  2.9195543e+05 Ad: 8.91e-03 Dobj:  0.0000000e+00 \n",
      "Iter: 10 Ap: 4.86e-03 Pobj:  1.5474164e+06 Ad: 7.36e-03 Dobj:  0.0000000e+00 \n",
      "Iter: 11 Ap: 7.92e-04 Pobj:  3.2963353e+06 Ad: 1.12e-02 Dobj:  0.0000000e+00 \n",
      "Iter: 12 Ap: 1.26e-03 Pobj:  2.0726205e+07 Ad: 7.06e-04 Dobj:  0.0000000e+00 \n",
      "Iter: 13 Ap: 1.46e-03 Pobj:  1.5980240e+08 Ad: 2.73e-03 Dobj:  0.0000000e+00 \n",
      "Iter: 14 Ap: 8.50e-05 Pobj:  2.5340103e+08 Ad: 1.18e-03 Dobj:  0.0000000e+00 \n",
      "Iter: 15 Ap: 1.78e-05 Pobj:  2.9154914e+08 Ad: 2.85e-04 Dobj:  0.0000000e+00 \n",
      "Iter: 16 Ap: 2.57e-04 Pobj:  9.5874891e+08 Ad: 6.27e-03 Dobj:  0.0000000e+00 \n",
      "Declaring dual infeasibility.\n",
      "Success: SDP is dual infeasible\n",
      "Certificate of dual infeasibility: tr(CX)=1.00000e+00, ||A(X)||=3.11064e-09\n",
      "Elements time: 0.000348 \n",
      "Factor time: 0.000292 \n",
      "Other time: 0.021691 \n",
      "Total time: 0.022331 \n"
     ]
    }
   ],
   "source": [
    "sol = csdp(objf_ols_bpft, lmis_ols_bpft, variables_ols_bpft)"
   ]
  },
  {
   "cell_type": "code",
   "execution_count": 144,
   "metadata": {},
   "outputs": [
    {
     "name": "stdout",
     "output_type": "stream",
     "text": [
      "     pcost       dcost       gap    pres   dres   k/t\n",
      " 0:  0.0000e+00 -1.2158e+01  1e+02  2e+00  7e+00  1e+00\n",
      " 1:  0.0000e+00 -2.3016e-01  3e+00  2e-01  6e-01  8e-01\n",
      " 2:  0.0000e+00 -9.6107e-02  1e+00  6e-02  2e-01  3e-01\n",
      " 3:  0.0000e+00  2.0962e-01  4e+01  3e-01  1e+00  2e+00\n",
      " 4:  0.0000e+00  7.3312e-01  3e+01  1e-01  5e-01  2e+00\n",
      " 5:  0.0000e+00  4.7892e-01  2e+01  7e-02  3e-01  1e+00\n",
      " 6:  0.0000e+00  3.4714e+00  1e+02  6e-02  2e-01  4e+00\n",
      " 7:  0.0000e+00  1.1664e+01  3e+02  6e-02  2e-01  1e+01\n",
      " 8:  0.0000e+00  1.0313e+02  2e+03  5e-02  2e-01  1e+02\n",
      " 9:  0.0000e+00  1.7208e+03  4e+04  5e-02  2e-01  2e+03\n",
      "10:  0.0000e+00  1.3030e+04  3e+05  5e-02  2e-01  1e+04\n",
      "11:  0.0000e+00  9.8979e+04  2e+06  5e-02  2e-01  1e+05\n",
      "12:  0.0000e+00  3.6891e+05  8e+06  5e-02  2e-01  4e+05\n",
      "13:  0.0000e+00  9.4734e+05  2e+07  5e-02  2e-01  9e+05\n",
      "14:  0.0000e+00  1.0511e+06  3e+07  5e-02  2e-01  1e+06\n",
      "15:  0.0000e+00  1.0467e+07  3e+08  5e-02  2e-01  1e+07\n",
      "Certificate of primal infeasibility found.\n",
      "primal infeasible\n",
      "Elapsed time: 3.98 s\n"
     ]
    }
   ],
   "source": [
    "sol = cvxopt_conelp(objf_ols_bpft, lmis_ols_bpft, variables_ols_bpft)"
   ]
  },
  {
   "cell_type": "markdown",
   "metadata": {},
   "source": [
    "## Base Parameter Feasibility Correction (BPFC)     ($\\beta^\\prime$)"
   ]
  },
  {
   "cell_type": "code",
   "execution_count": 310,
   "metadata": {},
   "outputs": [],
   "source": [
    "u = sympy.Symbol('u')\n",
    "U_beta = BlockMatrix([[Matrix([u]),            (beta_wls - beta_symbs).T],\n",
    "                 [beta_wls - beta_symbs,                 I(n_beta)]])\n",
    "U_beta = U_beta.as_explicit()"
   ]
  },
  {
   "cell_type": "code",
   "execution_count": 311,
   "metadata": {},
   "outputs": [],
   "source": [
    "lmis_ols_bpfc = [LMI(U_beta)] + DB_LMIs_marg"
   ]
  },
  {
   "cell_type": "code",
   "execution_count": 312,
   "metadata": {},
   "outputs": [
    {
     "data": {
      "text/plain": [
       "Matrix([\n",
       "[ L_1xx, L_1xy,  L_1xz,     0,   l_1z, -beta3],\n",
       "[ L_1xy, L_1yy,  L_1yz, -l_1z,      0,  beta2],\n",
       "[ L_1xz, L_1yz,  beta1, beta3, -beta2,      0],\n",
       "[     0, -l_1z,  beta3,   m_1,      0,      0],\n",
       "[  l_1z,     0, -beta2,     0,    m_1,      0],\n",
       "[-beta3, beta2,      0,     0,      0,    m_1]]) >= Matrix([\n",
       "[1.0e-6,      0,      0,      0,      0,      0],\n",
       "[     0, 1.0e-6,      0,      0,      0,      0],\n",
       "[     0,      0, 1.0e-6,      0,      0,      0],\n",
       "[     0,      0,      0, 1.0e-6,      0,      0],\n",
       "[     0,      0,      0,      0, 1.0e-6,      0],\n",
       "[     0,      0,      0,      0,      0, 1.0e-6]])"
      ]
     },
     "execution_count": 312,
     "metadata": {},
     "output_type": "execute_result"
    }
   ],
   "source": [
    "lmis_ols_bpfc[1]"
   ]
  },
  {
   "cell_type": "code",
   "execution_count": 313,
   "metadata": {},
   "outputs": [],
   "source": [
    "variables_ols_bpfc = [u] + list(beta_symbs) + list(delta_d)"
   ]
  },
  {
   "cell_type": "code",
   "execution_count": 314,
   "metadata": {},
   "outputs": [],
   "source": [
    "objf_ols_bpfc = u"
   ]
  },
  {
   "cell_type": "code",
   "execution_count": 315,
   "metadata": {},
   "outputs": [
    {
     "name": "stdout",
     "output_type": "stream",
     "text": [
      "sdp.dat-s -save dsdp5.out -gaptol 1e-07 \n",
      "\n",
      "Variables 11 \n",
      "Matrix Blocks: 2, Total Number of Constraints: 10 \n",
      "Nonzeros in Constraints: 31\n",
      "\n",
      "Read Data File into Buffer:      1.030e-04 seconds\n",
      "DSDP Set Data:                   8.702e-05 seconds\n",
      "DSDP Process Data:               8.106e-05 seconds\n",
      "\n",
      "Data Norms: C: 7.92e+00, A: 5.57e+00, b: 1.00e+00\n",
      "Scale C: 7.14e-01\n",
      "\n",
      "Potential Parameter: 5.00\n",
      "Reapply Schur matrix: 4\n",
      "\n",
      "Iter   PP Objective      DD Objective    PInfeas   DInfeas     Nu     StepLength   Pnrm\n",
      "---------------------------------------------------------------------------------------\n",
      "0     1.00000000e+10   -5.02270726e+11   2.0e+00   5.0e+03   5.0e+11  0.00  0.00   0.00 \n",
      "10    1.17043500e+12   -1.10685145e+10   1.6e+04   1.1e+02   1.5e+09  1.00  1.00  13.34 \n",
      "20    7.55322115e+04   -5.27518490e+02   9.7e-04   0.0e+00   2.6e+02  1.00  1.00   1.70 \n",
      "30    2.06151125e-07   -4.06059485e-10   2.6e-15   0.0e+00   1.3e-09  1.00  0.19   5.06 \n",
      "31    4.15147677e-08   -1.82744606e-10   5.2e-16   0.0e+00   2.6e-10  1.00  1.00   0.55 \n",
      "DSDP Converged. \n",
      "\n",
      "P Objective  :   5.35969411e-09 \n",
      "DSDP Solution:  -1.82744606e-10 \n",
      "\n",
      "DSDP Solve Time:                     3.546e-03 seconds\n",
      "DSDP Preparation and Solve Time:     3.627e-03 seconds\n",
      "\n",
      "\n",
      "P Infeasible: 1.21e-11 \n",
      "D Infeasible: 0.00e+00 \n",
      "Minimal P Eigenvalue: 0.00e+00 \n",
      "Minimal D Eigenvalue: 0.00 \n",
      "Relative P - D Objective values: 5.54e-09 \n",
      "Relative X Dot S: 3.48e-05 \n",
      "\n",
      "Max Y: 7.74596669e+06,  Bounded by 1.0e+07\n",
      "Trace X: 1.00000000e+00,   Bounded by Penalty Parameter: 1.0e+08 \n",
      "\n",
      "PERFORMANCE SUMMARY\n",
      "                     Event                      Calls    Time(s)   Time(%)\n",
      "--------------------------------------------------------------------------\n",
      "                                   R Cone         932   8.5115e-05   2.28\n",
      "                             Bound Y Cone         932   1.4973e-04   4.00\n",
      "                                 SDP Cone         937   2.4710e-03  66.08\n",
      "                           Cone Setup 1&2           2   2.9087e-05   0.78\n",
      "                            Cone Invert S         146   5.9605e-04  15.94\n",
      "                                 Cone RHS         115   1.6093e-04   4.30\n",
      "                  Cone Compute Newton Eq.          31   5.4979e-04  14.70\n",
      "                   Cone Max P Step Length          31   1.5926e-04   4.26\n",
      "               Cone Compute and Factor SP          35   5.2214e-05   1.40\n",
      "                   Cone Max D Step Length         150   7.5078e-04  20.08\n",
      "                Cone Compute and Factor S         183   3.4738e-04   9.29\n",
      "                           Cone Potential         181   2.1124e-04   5.65\n",
      "                                Cone View          32   1.0490e-05   0.28\n",
      "                           Cone Compute X           1   2.2173e-05   0.59\n",
      "                            SDP VecMatVec         233   3.1948e-05   0.85\n",
      "                                  SDP Dot         557   7.9393e-05   2.12\n",
      "                               SDP SSolve        1112   1.2040e-04   3.22\n",
      "                                SDP X+vv'         879   7.6056e-05   2.03\n",
      "                        Factor Newton Eq.          31   5.6505e-05   1.51\n",
      "                         Solve Newton Eq.         191   7.2241e-05   1.93\n",
      "                              Primal Step          31   3.5048e-04   9.37\n",
      "                                Dual Step          31   2.5916e-04   6.93\n",
      "                           Corrector Step         115   1.7111e-03  45.76\n",
      "                                 CG Solve         178   1.3924e-04   3.72\n",
      "                               DSDP Solve           1   3.5141e-03  93.98\n",
      "--------------------------------------------------------------------------\n",
      "--- DSDP Finished ---\n",
      "\n"
     ]
    }
   ],
   "source": [
    "sol_ols_bpfc = solve_sdp(objf_ols_bpfc, lmis_ols_bpfc, variables_ols_bpfc)"
   ]
  },
  {
   "cell_type": "code",
   "execution_count": 316,
   "metadata": {},
   "outputs": [],
   "source": [
    "u_prime = sol_ols_bpfc[0,0]\n",
    "beta_prime = sol_ols_bpfc[1:1+n_beta]\n",
    "delta_d_prime = sol_ols_bpfc[1+n_beta:]"
   ]
  },
  {
   "cell_type": "code",
   "execution_count": 317,
   "metadata": {},
   "outputs": [
    {
     "data": {
      "text/plain": [
       "4.0605948508991616e-10"
      ]
     },
     "execution_count": 317,
     "metadata": {},
     "output_type": "execute_result"
    }
   ],
   "source": [
    "u_prime"
   ]
  },
  {
   "cell_type": "markdown",
   "metadata": {},
   "source": [
    "### plot measured and predicted torque"
   ]
  },
  {
   "cell_type": "code",
   "execution_count": 318,
   "metadata": {},
   "outputs": [
    {
     "data": {
      "image/png": "[encoded data removed]",
      "text/plain": [
       "<Figure size 864x576 with 1 Axes>"
      ]
     },
     "metadata": {
      "needs_background": "light"
     },
     "output_type": "display_data"
    }
   ],
   "source": [
    "# from support_funcs.regr_data_proc import  plot_meas_pred_tau\n",
    "\n",
    "import matplotlib.pyplot as plt\n",
    "plt.rcParams['figure.figsize'] = [12,8]\n",
    "\n",
    "proc = numpy.load(tmpfolder + 'procdata/' + indentification_traj + '_proc.npz')\n",
    "t = proc['t']\n",
    "tau = proc['tau']\n",
    "\n",
    "tau_p = np.zeros(tau.shape)\n",
    "tau_ps = W.dot(beta_prime)\n",
    "for i in range(dof):\n",
    "    tau_p[:, i] = tau_ps[i::dof].flatten()\n",
    "\n",
    "base_freq = 0.05    \n",
    "trajectory_sampling_rate = 50\n",
    "plot_data_num = int(1 / base_freq * trajectory_sampling_rate)\n",
    "plot_meas_pred_tau(t[:plot_data_num], tau[:plot_data_num, :],\n",
    "                   tau_p[:plot_data_num, :])"
   ]
  },
  {
   "cell_type": "markdown",
   "metadata": {},
   "source": [
    "### Solution Double Check"
   ]
  },
  {
   "cell_type": "code",
   "execution_count": 319,
   "metadata": {},
   "outputs": [
    {
     "name": "stdout",
     "output_type": "stream",
     "text": [
      "ok\n"
     ]
    }
   ],
   "source": [
    "dict_subs = dict(zip(beta_symbs, beta_prime.flatten().tolist()[0]))\n",
    "dict_subs.update(dict(zip(delta_d, delta_d_prime.flatten().tolist()[0])))\n",
    "\n",
    "test = 'ok'\n",
    "for i, DBi in enumerate(DB_blocks):\n",
    "        m = numpy.matrix(mrepl(DBi, dict_subs)).astype(float)\n",
    "        for v in numpy.linalg.eigvals( m ):\n",
    "            if v <= 0.0:\n",
    "                print i, v\n",
    "                test = 'fail'\n",
    "print(test)"
   ]
  },
  {
   "cell_type": "code",
   "execution_count": 320,
   "metadata": {},
   "outputs": [],
   "source": [
    "numpy.savetxt(tmpfolder + 'solutions/' + indentification_traj + '_beta_prime.dat', beta_prime)"
   ]
  },
  {
   "cell_type": "markdown",
   "metadata": {},
   "source": [
    "## Feasible Base Parameter Estimation with Weight Least Squares (FBPE-WLS)     ($\\beta^\\star$)"
   ]
  },
  {
   "cell_type": "code",
   "execution_count": 321,
   "metadata": {},
   "outputs": [],
   "source": [
    "u = sympy.Symbol('u')\n",
    "U_rho = BlockMatrix([[Matrix([u - rho2_norm_sqr_wls]), (rho1_wls - R1_wls*beta_symbs).T],\n",
    "                     [rho1_wls - R1_wls*beta_symbs,                       I(n_beta)]])\n",
    "U_rho = U_rho.as_explicit()"
   ]
  },
  {
   "cell_type": "code",
   "execution_count": 322,
   "metadata": {},
   "outputs": [],
   "source": [
    "lmis_fbpe_ols = [LMI(U_rho)] + DB_LMIs_marg"
   ]
  },
  {
   "cell_type": "code",
   "execution_count": 323,
   "metadata": {},
   "outputs": [],
   "source": [
    "variables_fbpe_ols = [u] + list(beta_symbs) + list(delta_d)"
   ]
  },
  {
   "cell_type": "code",
   "execution_count": 324,
   "metadata": {},
   "outputs": [],
   "source": [
    "objf_fbpe_ols = u"
   ]
  },
  {
   "cell_type": "code",
   "execution_count": 325,
   "metadata": {},
   "outputs": [
    {
     "name": "stdout",
     "output_type": "stream",
     "text": [
      "sdp.dat-s -save dsdp5.out -gaptol 1e-07 \n",
      "\n",
      "Variables 11 \n",
      "Matrix Blocks: 2, Total Number of Constraints: 10 \n",
      "Nonzeros in Constraints: 35\n",
      "\n",
      "Read Data File into Buffer:      9.012e-05 seconds\n",
      "DSDP Set Data:                   7.296e-05 seconds\n",
      "DSDP Process Data:               2.680e-04 seconds\n",
      "\n",
      "Data Norms: C: 2.11e+01, A: 3.26e+01, b: 1.00e+00\n",
      "Scale C: 1.00e+00\n",
      "\n",
      "Potential Parameter: 5.00\n",
      "Reapply Schur matrix: 4\n",
      "\n",
      "Iter   PP Objective      DD Objective    PInfeas   DInfeas     Nu     StepLength   Pnrm\n",
      "---------------------------------------------------------------------------------------\n",
      "0     1.00000000e+10   -2.23948414e+11   2.0e+00   2.2e+03   2.2e+11  0.00  0.00   0.00 \n",
      "10    2.04115001e+11   -1.21302519e+10   2.9e+03   1.2e+02   2.4e+09  1.00  1.00   1.03 \n",
      "20    6.63400199e+03   -1.77535389e+01   8.4e-05   0.0e+00   8.9e+00  1.00  1.00   7.75 \n",
      "28   -8.52549163e-02   -8.52549608e-02   5.6e-16   0.0e+00   2.9e-10  1.00  0.19   5.07 \n",
      "DSDP Converged. \n",
      "\n",
      "P Objective  :  -8.52549550e-02 \n",
      "DSDP Solution:  -8.52549608e-02 \n",
      "\n",
      "DSDP Solve Time:                     3.087e-03 seconds\n",
      "DSDP Preparation and Solve Time:     3.355e-03 seconds\n",
      "\n",
      "\n",
      "P Infeasible: 1.28e-11 \n",
      "D Infeasible: 0.00e+00 \n",
      "Minimal P Eigenvalue: 0.00e+00 \n",
      "Minimal D Eigenvalue: 0.00 \n",
      "Relative P - D Objective values: 4.98e-09 \n",
      "Relative X Dot S: 2.97e-05 \n",
      "\n",
      "Max Y: 7.74596669e+06,  Bounded by 1.0e+07\n",
      "Trace X: 1.00000000e+00,   Bounded by Penalty Parameter: 1.0e+08 \n",
      "\n",
      "PERFORMANCE SUMMARY\n",
      "                     Event                      Calls    Time(s)   Time(%)\n",
      "--------------------------------------------------------------------------\n",
      "                                   R Cone         851   5.3406e-05   1.55\n",
      "                             Bound Y Cone         851   1.2398e-04   3.59\n",
      "                                 SDP Cone         855   2.4912e-03  72.15\n",
      "                           Cone Setup 1&2           2   2.1315e-04   6.17\n",
      "                            Cone Invert S         133   4.8971e-04  14.18\n",
      "                                 Cone RHS         105   1.5330e-04   4.44\n",
      "                  Cone Compute Newton Eq.          28   4.6778e-04  13.55\n",
      "                   Cone Max P Step Length          28   1.7142e-04   4.96\n",
      "               Cone Compute and Factor SP          31   4.2915e-05   1.24\n",
      "                   Cone Max D Step Length         136   8.2517e-04  23.90\n",
      "                Cone Compute and Factor S         168   2.6894e-04   7.79\n",
      "                           Cone Potential         166   1.6689e-04   4.83\n",
      "                                Cone View          29   1.3113e-05   0.38\n",
      "                           Cone Compute X           1   2.0027e-05   0.58\n",
      "                            SDP VecMatVec         212   3.0279e-05   0.88\n",
      "                                  SDP Dot         506   9.1553e-05   2.65\n",
      "                               SDP SSolve        1008   8.8930e-05   2.58\n",
      "                                SDP X+vv'         796   6.9380e-05   2.01\n",
      "                        Factor Newton Eq.          28   4.8161e-05   1.39\n",
      "                         Solve Newton Eq.         174   4.9353e-05   1.43\n",
      "                              Primal Step          28   3.0041e-04   8.70\n",
      "                                Dual Step          28   2.5821e-04   7.48\n",
      "                           Corrector Step         105   1.6387e-03  47.46\n",
      "                                 CG Solve         162   1.1802e-04   3.42\n",
      "                               DSDP Solve           1   3.0560e-03  88.50\n",
      "--------------------------------------------------------------------------\n",
      "--- DSDP Finished ---\n",
      "\n"
     ]
    }
   ],
   "source": [
    "sol_fbpe_ols = solve_sdp(objf_fbpe_ols, lmis_fbpe_ols, variables_fbpe_ols)"
   ]
  },
  {
   "cell_type": "code",
   "execution_count": 326,
   "metadata": {},
   "outputs": [],
   "source": [
    "u_star = sol_fbpe_ols[0,0]\n",
    "beta_star = numpy.matrix(sol_fbpe_ols[1:1+n_beta])\n",
    "delta_d_star = numpy.matrix(sol_fbpe_ols[1+n_beta:])"
   ]
  },
  {
   "cell_type": "code",
   "execution_count": 327,
   "metadata": {},
   "outputs": [
    {
     "data": {
      "text/plain": [
       "0.08525496248290194"
      ]
     },
     "execution_count": 327,
     "metadata": {},
     "output_type": "execute_result"
    }
   ],
   "source": [
    "u_star"
   ]
  },
  {
   "cell_type": "markdown",
   "metadata": {},
   "source": [
    "### plot measured and predicted torque"
   ]
  },
  {
   "cell_type": "code",
   "execution_count": 328,
   "metadata": {},
   "outputs": [
    {
     "data": {
      "image/png": "[encoded data removed]",
      "text/plain": [
       "<Figure size 864x576 with 1 Axes>"
      ]
     },
     "metadata": {
      "needs_background": "light"
     },
     "output_type": "display_data"
    }
   ],
   "source": [
    "# from support_funcs.regr_data_proc import  plot_meas_pred_tau\n",
    "\n",
    "import matplotlib.pyplot as plt\n",
    "plt.rcParams['figure.figsize'] = [12,8]\n",
    "\n",
    "proc = numpy.load(tmpfolder + 'procdata/' + indentification_traj + '_proc.npz')\n",
    "t = proc['t']\n",
    "tau = proc['tau']\n",
    "\n",
    "tau_p = np.zeros(tau.shape)\n",
    "tau_ps = W.dot(beta_star)\n",
    "for i in range(dof):\n",
    "    tau_p[:, i] = tau_ps[i::dof].flatten()\n",
    "\n",
    "base_freq = 0.05    \n",
    "trajectory_sampling_rate = 50\n",
    "plot_data_num = int(1 / base_freq * trajectory_sampling_rate)\n",
    "plot_meas_pred_tau(t[:plot_data_num], tau[:plot_data_num, :],\n",
    "                   tau_p[:plot_data_num, :])"
   ]
  },
  {
   "cell_type": "markdown",
   "metadata": {},
   "source": [
    "### Solution Double Check"
   ]
  },
  {
   "cell_type": "code",
   "execution_count": 329,
   "metadata": {},
   "outputs": [
    {
     "name": "stdout",
     "output_type": "stream",
     "text": [
      "ok\n"
     ]
    }
   ],
   "source": [
    "dict_subs = dict(zip(beta_symbs, beta_star.flatten().tolist()[0]))\n",
    "dict_subs.update(dict(zip(delta_d, delta_d_star.flatten().tolist()[0])))\n",
    "\n",
    "test = 'ok'\n",
    "for DBi in DB_blocks:\n",
    "        m = numpy.matrix(mrepl(DBi, dict_subs)).astype(float)\n",
    "        for v in numpy.linalg.eigvals( m ):\n",
    "            if v <= 0.0:\n",
    "                print(v)\n",
    "                test = 'fail'\n",
    "print(test)"
   ]
  },
  {
   "cell_type": "code",
   "execution_count": 330,
   "metadata": {},
   "outputs": [],
   "source": [
    "numpy.savetxt(tmpfolder + 'solutions/' + indentification_traj + '_beta_star.dat', beta_star)"
   ]
  },
  {
   "cell_type": "markdown",
   "metadata": {},
   "source": [
    "## Additional Constraints on Centers-of-Mass    ($\\beta^{\\star e}$)"
   ]
  },
  {
   "cell_type": "code",
   "execution_count": 331,
   "metadata": {},
   "outputs": [],
   "source": [
    "link_cuboid_hulls = [\n",
    "[[ -0.010 , +0.010 ],[ -0.10 , +0.020 ],[ -0.010 , +0.010 ]]\n",
    "# [[ -0.10 , +0.70 ],[ -0.10 , +0.10 ],[ -0.10 , +0.10 ]],\n",
    "# [[ -0.10 , +0.60 ],[ -0.10 , +0.10 ],[ -0.10 , +0.10 ]],\n",
    "# [[ -0.10 , +0.10 ],[ -0.10 , +0.10 ],[ -0.10 , +0.10 ]],\n",
    "# [[ -0.10 , +0.10 ],[ -0.10 , +0.10 ],[ -0.10 , +0.10 ]],\n",
    "# [[ -0.05 , +0.05 ],[ -0.05 , +0.05 ],[ -0.05 , +0.05 ]],\n",
    "]\n",
    "\n",
    "robotmaxmass = 5.0"
   ]
  },
  {
   "cell_type": "markdown",
   "metadata": {},
   "source": [
    "#### LMI Matrix Definition"
   ]
  },
  {
   "cell_type": "code",
   "execution_count": 332,
   "metadata": {},
   "outputs": [],
   "source": [
    "D_add_blocks = []\n",
    "for i in range(rbt.dof):\n",
    "    l = rbt.rbtdef.l[i]\n",
    "    m = rbt.rbtdef.m[i]\n",
    "    link_cuboid_hull = link_cuboid_hulls[i]\n",
    "    for j in range(3):\n",
    "        D_add_blocks.append( Matrix( [[  l[j] - m*link_cuboid_hull[j][0] ]] ) )\n",
    "        D_add_blocks.append( Matrix( [[ -l[j] + m*link_cuboid_hull[j][1] ]] ) )\n",
    "\n",
    "D_add_blocks.append(Matrix([robotmaxmass - sum(rbt.rbtdef.m)]))"
   ]
  },
  {
   "cell_type": "markdown",
   "metadata": {},
   "source": [
    "#### Variable Change and LMI Definition"
   ]
  },
  {
   "cell_type": "code",
   "execution_count": 333,
   "metadata": {},
   "outputs": [],
   "source": [
    "DB_add_blocks = [ mrepl(Di, varchange_dict) for Di in D_add_blocks ]"
   ]
  },
  {
   "cell_type": "code",
   "execution_count": 334,
   "metadata": {},
   "outputs": [],
   "source": [
    "DB_add_LMIs = list(map(LMI_PD, DB_add_blocks))"
   ]
  },
  {
   "cell_type": "code",
   "execution_count": 335,
   "metadata": {},
   "outputs": [],
   "source": [
    "DB_add_LMIs_marg = list(map(lambda lm: LMI(lm, epsilon_safemargin*eye(lm.shape[0])) , DB_add_blocks))"
   ]
  },
  {
   "cell_type": "code",
   "execution_count": 336,
   "metadata": {},
   "outputs": [
    {
     "data": {
      "text/plain": [
       "Matrix([[beta2 + 0.01*m_1]]) >= Matrix([[1.0e-6]])"
      ]
     },
     "execution_count": 336,
     "metadata": {},
     "output_type": "execute_result"
    }
   ],
   "source": [
    "DB_add_LMIs_marg[0]"
   ]
  },
  {
   "cell_type": "code",
   "execution_count": 337,
   "metadata": {},
   "outputs": [
    {
     "data": {
      "text/plain": [
       "Matrix([[-m_1 + 5.0]]) >= Matrix([[1.0e-6]])"
      ]
     },
     "execution_count": 337,
     "metadata": {},
     "output_type": "execute_result"
    }
   ],
   "source": [
    "DB_add_LMIs_marg[-1]"
   ]
  },
  {
   "cell_type": "markdown",
   "metadata": {},
   "source": [
    "### Testing $\\beta^\\star$ solution on new constraints"
   ]
  },
  {
   "cell_type": "code",
   "execution_count": 338,
   "metadata": {},
   "outputs": [],
   "source": [
    "dict_subs = dict(zip(beta_symbs, beta_star.flatten().tolist()[0]))\n",
    "lmis_star_bpft_add = [ lmi_sdp.LMI_PD(mrepl(lmi.canonical().gts, dict_subs)) for lmi in DB_add_LMIs_marg ]\n",
    "variables_star_bpft_add = list(delta_d)\n",
    "objf_star_bpft_add = delta_d[0]"
   ]
  },
  {
   "cell_type": "code",
   "execution_count": 339,
   "metadata": {},
   "outputs": [
    {
     "name": "stdout",
     "output_type": "stream",
     "text": [
      "sdp.dat-s -save dsdp5.out -gaptol 1e-07 \n",
      "\n",
      "Variables 7 \n",
      "Matrix Blocks: 7, Total Number of Constraints: 7 \n",
      "Nonzeros in Constraints: 16\n",
      "\n",
      "Read Data File into Buffer:      6.914e-05 seconds\n",
      "DSDP Set Data:                   7.987e-05 seconds\n",
      "DSDP Process Data:               6.413e-05 seconds\n",
      "\n",
      "Data Norms: C: 5.00e+00, A: 1.74e+00, b: 1.00e+00\n",
      "Scale C: 4.00e-01\n",
      "\n",
      "Potential Parameter: 5.00\n",
      "Reapply Schur matrix: 10\n",
      "\n",
      "Iter   PP Objective      DD Objective    PInfeas   DInfeas     Nu     StepLength   Pnrm\n",
      "---------------------------------------------------------------------------------------\n",
      "0     1.00000000e+10   -8.73858217e+09   2.0e+00   8.7e+01   8.7e+09  0.00  0.00   0.00 \n",
      "9     1.00000003e+07    1.00000000e+07   1.0e+00   0.0e+00   3.1e-03  1.00  0.23   4.14 \n",
      "DSDP Converged. \n",
      "DSDP Dual Unbounded, Primal Infeasible\n",
      "\n",
      "P Objective  :   1.08384773e-01 \n",
      "DSDP Solution:   1.00000000e+07 \n",
      "\n",
      "DSDP Solve Time:                     9.229e-04 seconds\n",
      "DSDP Preparation and Solve Time:     9.871e-04 seconds\n",
      "\n",
      "\n",
      "P Infeasible: 5.00e-01 \n",
      "D Infeasible: 0.00e+00 \n",
      "Minimal P Eigenvalue: 0.00e+00 \n",
      "Minimal D Eigenvalue: 0.00 \n",
      "Relative P - D Objective values: -1.00e+00 \n",
      "Relative X Dot S: 1.08e-08 \n",
      "\n",
      "Max Y: 1.00000000e+07,  Bounded by 1.0e+07\n",
      "Trace X: 1.61378452e+00,   Bounded by Penalty Parameter: 1.0e+08 \n",
      "\n",
      "PERFORMANCE SUMMARY\n",
      "                     Event                      Calls    Time(s)   Time(%)\n",
      "--------------------------------------------------------------------------\n",
      "                                   R Cone         451   3.4809e-05   3.24\n",
      "                             Bound Y Cone         452   5.5552e-05   5.17\n",
      "                                 SDP Cone         452   5.1093e-04  47.53\n",
      "                           Cone Setup 1&2           2   2.6226e-05   2.44\n",
      "                            Cone Invert S          72   2.9325e-05   2.73\n",
      "                                 Cone RHS          63   1.0610e-04   9.87\n",
      "                  Cone Compute Newton Eq.           9   1.0037e-04   9.34\n",
      "                   Cone Max P Step Length           9   2.9802e-05   2.77\n",
      "               Cone Compute and Factor SP          10   1.1206e-05   1.04\n",
      "                   Cone Max D Step Length          73   1.8764e-04  17.45\n",
      "                Cone Compute and Factor S          97   9.4414e-05   8.78\n",
      "                           Cone Potential          96   9.8705e-05   9.18\n",
      "                                Cone View          10   2.8610e-06   0.27\n",
      "                           Cone Compute X           1   1.0014e-05   0.93\n",
      "                                  SDP Dot         564   4.5776e-05   4.26\n",
      "                               SDP SSolve         116   3.8147e-06   0.35\n",
      "                                SDP X+vv'         116   3.8624e-05   3.59\n",
      "                        Factor Newton Eq.           9   5.5790e-05   5.19\n",
      "                         Solve Newton Eq.          86   2.0742e-05   1.93\n",
      "                              Primal Step           9   6.1274e-05   5.70\n",
      "                                Dual Step           9   4.7684e-05   4.44\n",
      "                           Corrector Step          63   5.4097e-04  50.32\n",
      "                                 CG Solve          82   5.5075e-05   5.12\n",
      "                               DSDP Solve           1   9.0504e-04  84.19\n",
      "--------------------------------------------------------------------------\n",
      "--- DSDP Finished ---\n",
      "\n"
     ]
    }
   ],
   "source": [
    "sol_star_bpft_add = solve_sdp(objf_star_bpft_add, lmis_star_bpft_add, variables_star_bpft_add)"
   ]
  },
  {
   "cell_type": "markdown",
   "metadata": {},
   "source": [
    "### Finding new solution"
   ]
  },
  {
   "cell_type": "code",
   "execution_count": 340,
   "metadata": {},
   "outputs": [],
   "source": [
    "lmis_fbpe_ols_add = [LMI(U_rho)] + DB_LMIs_marg + DB_add_LMIs_marg"
   ]
  },
  {
   "cell_type": "code",
   "execution_count": 341,
   "metadata": {},
   "outputs": [],
   "source": [
    "variables_fbpe_ols_add = [u] + list(beta_symbs) + list(delta_d)"
   ]
  },
  {
   "cell_type": "code",
   "execution_count": 342,
   "metadata": {},
   "outputs": [],
   "source": [
    "objf_fbpe_ols_add = u"
   ]
  },
  {
   "cell_type": "code",
   "execution_count": 343,
   "metadata": {},
   "outputs": [
    {
     "name": "stdout",
     "output_type": "stream",
     "text": [
      "sdp.dat-s -save dsdp5.out -gaptol 1e-07 \n",
      "\n",
      "Variables 11 \n",
      "Matrix Blocks: 9, Total Number of Constraints: 17 \n",
      "Nonzeros in Constraints: 55\n",
      "\n",
      "Read Data File into Buffer:      1.149e-04 seconds\n",
      "DSDP Set Data:                   7.391e-05 seconds\n",
      "DSDP Process Data:               2.592e-04 seconds\n",
      "\n",
      "Data Norms: C: 2.17e+01, A: 3.27e+01, b: 1.00e+00\n",
      "Scale C: 1.00e+00\n",
      "\n",
      "Potential Parameter: 5.00\n",
      "Reapply Schur matrix: 4\n",
      "\n",
      "Iter   PP Objective      DD Objective    PInfeas   DInfeas     Nu     StepLength   Pnrm\n",
      "---------------------------------------------------------------------------------------\n",
      "0     1.00000000e+10   -2.59597440e+11   2.0e+00   2.6e+03   2.6e+11  0.00  0.00   0.00 \n",
      "10    2.56079174e+11   -4.89696547e+10   1.7e+03   4.9e+02   2.3e+09  1.00  1.00   5.98 \n",
      "20    1.89175785e+05   -1.03505267e+03   8.8e-04   0.0e+00   6.0e+02  1.00  1.00   1.39 \n",
      "30   -8.52548515e-02   -8.52549609e-02   5.0e-16   0.0e+00   5.8e-10  1.00  0.19   5.08 \n",
      "31   -8.52549388e-02   -8.52549608e-02   1.0e-16   0.0e+00   1.1e-10  1.00  1.00   0.55 \n",
      "DSDP Converged. \n",
      "\n",
      "P Objective  :  -8.52549526e-02 \n",
      "DSDP Solution:  -8.52549608e-02 \n",
      "\n",
      "DSDP Solve Time:                     4.540e-03 seconds\n",
      "DSDP Preparation and Solve Time:     4.799e-03 seconds\n",
      "\n",
      "\n",
      "P Infeasible: 1.20e-11 \n",
      "D Infeasible: 0.00e+00 \n",
      "Minimal P Eigenvalue: 0.00e+00 \n",
      "Minimal D Eigenvalue: 0.00 \n",
      "Relative P - D Objective values: 6.99e-09 \n",
      "Relative X Dot S: 9.87e-06 \n",
      "\n",
      "Max Y: 5.77350269e+06,  Bounded by 1.0e+07\n",
      "Trace X: 1.00000006e+00,   Bounded by Penalty Parameter: 1.0e+08 \n",
      "\n",
      "PERFORMANCE SUMMARY\n",
      "                     Event                      Calls    Time(s)   Time(%)\n",
      "--------------------------------------------------------------------------\n",
      "                                   R Cone         918   4.5776e-05   0.93\n",
      "                             Bound Y Cone         918   1.6642e-04   3.39\n",
      "                                 SDP Cone         924   3.8538e-03  78.53\n",
      "                           Cone Setup 1&2           2   2.1625e-04   4.41\n",
      "                            Cone Invert S         144   5.4717e-04  11.15\n",
      "                                 Cone RHS         113   2.9683e-04   6.05\n",
      "                  Cone Compute Newton Eq.          31   7.4029e-04  15.09\n",
      "                   Cone Max P Step Length          31   2.9302e-04   5.97\n",
      "               Cone Compute and Factor SP          36   7.7486e-05   1.58\n",
      "                   Cone Max D Step Length         149   1.3864e-03  28.25\n",
      "                Cone Compute and Factor S         179   4.1342e-04   8.42\n",
      "                           Cone Potential         177   2.3627e-04   4.81\n",
      "                                Cone View          32   6.6757e-06   0.14\n",
      "                           Cone Compute X           1   2.9087e-05   0.59\n",
      "                            SDP VecMatVec         239   2.6941e-05   0.55\n",
      "                                  SDP Dot        1860   2.0671e-04   4.21\n",
      "                               SDP SSolve        1636   1.4329e-04   2.92\n",
      "                                SDP X+vv'        1397   1.0157e-04   2.07\n",
      "                        Factor Newton Eq.          31   5.0306e-05   1.03\n",
      "                         Solve Newton Eq.         190   6.3658e-05   1.30\n",
      "                              Primal Step          31   4.8447e-04   9.87\n",
      "                                Dual Step          31   4.1962e-04   8.55\n",
      "                           Corrector Step         113   2.4185e-03  49.29\n",
      "                                 CG Solve         176   1.4806e-04   3.02\n",
      "                               DSDP Solve           1   4.4990e-03  91.68\n",
      "--------------------------------------------------------------------------\n",
      "--- DSDP Finished ---\n",
      "\n"
     ]
    }
   ],
   "source": [
    "sol_fbpe_ols_add = solve_sdp(objf_fbpe_ols_add, lmis_fbpe_ols_add, variables_fbpe_ols_add)"
   ]
  },
  {
   "cell_type": "code",
   "execution_count": 344,
   "metadata": {},
   "outputs": [],
   "source": [
    "u_starextra = sol_fbpe_ols_add[0,0]\n",
    "beta_starextra = numpy.matrix(sol_fbpe_ols_add[1:1+n_beta])\n",
    "delta_d_starextra = numpy.matrix(sol_fbpe_ols_add[1+n_beta:])"
   ]
  },
  {
   "cell_type": "code",
   "execution_count": 345,
   "metadata": {},
   "outputs": [
    {
     "data": {
      "text/plain": [
       "0.0852549609066577"
      ]
     },
     "execution_count": 345,
     "metadata": {},
     "output_type": "execute_result"
    }
   ],
   "source": [
    "u_starextra"
   ]
  },
  {
   "cell_type": "markdown",
   "metadata": {},
   "source": [
    "### Solution Double Check"
   ]
  },
  {
   "cell_type": "code",
   "execution_count": 346,
   "metadata": {},
   "outputs": [
    {
     "name": "stdout",
     "output_type": "stream",
     "text": [
      "ok\n"
     ]
    }
   ],
   "source": [
    "dict_subs = dict(zip(beta_symbs, beta_starextra.flatten().tolist()[0]))\n",
    "dict_subs.update(dict(zip(delta_d, delta_d_starextra.flatten().tolist()[0])))\n",
    "\n",
    "test = 'ok'\n",
    "for DBi in (DB_blocks + DB_add_blocks):\n",
    "        m = numpy.matrix(mrepl(DBi, dict_subs)).astype(float)\n",
    "        for v in numpy.linalg.eigvals( m ):\n",
    "            if v <= 0.0: test = 'fail'\n",
    "print(test)"
   ]
  },
  {
   "cell_type": "code",
   "execution_count": 347,
   "metadata": {},
   "outputs": [],
   "source": [
    "numpy.savetxt(tmpfolder + 'solutions/' + indentification_traj + '_beta_starextra.dat', beta_starextra)"
   ]
  },
  {
   "cell_type": "markdown",
   "metadata": {},
   "source": [
    "### Inertia Matrix Definiteness Tests"
   ]
  },
  {
   "cell_type": "code",
   "execution_count": 348,
   "metadata": {},
   "outputs": [],
   "source": [
    "def test_mass_matrix_psd(beta_solution):\n",
    "    K = rbt.dyn.Pb.T + rbt.dyn.Kd * rbt.dyn.Pd.T\n",
    "    A = numpy.matrix(K).astype(float)\n",
    "    b = numpy.matrix(beta_solution).astype(float)\n",
    "    x = numpy.linalg.pinv(A) * b\n",
    "    d_test = x\n",
    "    \n",
    "    M_func_def = sympybotics.robotcodegen.robot_code_to_func( 'python', rbt.M_code, 'M', 'M_func', rbt.rbtdef)\n",
    "    exec(M_func_def, globals())\n",
    "    global sin, cos\n",
    "    from math import sin, cos\n",
    "    \n",
    "    ntests = 10000\n",
    "    \n",
    "    ok = 0\n",
    "    nok = 0\n",
    "    for i in range(ntests):\n",
    "        q_test = numpy.random.rand(rbt.dof)\n",
    "        M_out = M_func( numpy.array(d_test).flatten().tolist())#, q_test)\n",
    "        M = numpy.matrix(M_out).reshape((rbt.dof,rbt.dof))\n",
    "        try:\n",
    "            c = numpy.linalg.cholesky(M)\n",
    "        except:\n",
    "            nok += 1\n",
    "            continue\n",
    "        ok += 1\n",
    "        \n",
    "    print 'ok     %8i  %3i%%'%(ok, 100.0*ok/ntests) \n",
    "    print 'not ok %8i  %3i%%'%(nok, 100.0*nok/ntests)\n",
    "    if nok > 0 :\n",
    "        print('\\nNot PSD -> Not feasible!')\n",
    "    else:\n",
    "        print('\\nSeems feasible.')"
   ]
  },
  {
   "cell_type": "code",
   "execution_count": 385,
   "metadata": {},
   "outputs": [
    {
     "name": "stdout",
     "output_type": "stream",
     "text": [
      "ok        10000  100%\n",
      "not ok        0    0%\n",
      "\n",
      "Seems feasible.\n"
     ]
    }
   ],
   "source": [
    "beta_ols = numpy.matrix(numpy.loadtxt(tmpfolder + 'solutions/traj4_beta_ols.dat')).T\n",
    "test_mass_matrix_psd(beta_ols)"
   ]
  },
  {
   "cell_type": "code",
   "execution_count": 386,
   "metadata": {},
   "outputs": [
    {
     "data": {
      "text/plain": [
       "matrix([[ 0.00000000e+00],\n",
       "        [ 0.00000000e+00],\n",
       "        [ 0.00000000e+00],\n",
       "        [ 0.00000000e+00],\n",
       "        [ 0.00000000e+00],\n",
       "        [ 5.46444082e+00],\n",
       "        [-4.75646573e-04],\n",
       "        [-7.98258217e-02],\n",
       "        [ 0.00000000e+00],\n",
       "        [ 0.00000000e+00]])"
      ]
     },
     "execution_count": 386,
     "metadata": {},
     "output_type": "execute_result"
    }
   ],
   "source": [
    "K = rbt.dyn.Pb.T + rbt.dyn.Kd * rbt.dyn.Pd.T\n",
    "A = numpy.matrix(K).astype(float)\n",
    "b = numpy.matrix(beta_ols).astype(float)\n",
    "x = numpy.linalg.pinv(A) * b\n",
    "d_test = x\n",
    "d_test"
   ]
  },
  {
   "cell_type": "code",
   "execution_count": 387,
   "metadata": {},
   "outputs": [
    {
     "name": "stdout",
     "output_type": "stream",
     "text": [
      "def M_func(parms):\n",
      "#\n",
      "    M = [0]*1\n",
      "#\n",
      "\n",
      "    M[0] = parms[5]\n",
      "#\n",
      "    return M\n"
     ]
    }
   ],
   "source": [
    "M_func_def = sympybotics.robotcodegen.robot_code_to_func( 'python', rbt.M_code, 'M', 'M_func', rbt.rbtdef)\n",
    "print M_func_def"
   ]
  },
  {
   "cell_type": "code",
   "execution_count": 388,
   "metadata": {},
   "outputs": [
    {
     "name": "stdout",
     "output_type": "stream",
     "text": [
      "ok        10000  100%\n",
      "not ok        0    0%\n",
      "\n",
      "Seems feasible.\n"
     ]
    }
   ],
   "source": [
    "beta_wls = numpy.matrix(numpy.loadtxt(tmpfolder + 'solutions/traj4_beta_wls.dat')).T\n",
    "test_mass_matrix_psd(beta_wls)"
   ]
  },
  {
   "cell_type": "code",
   "execution_count": 389,
   "metadata": {},
   "outputs": [
    {
     "name": "stdout",
     "output_type": "stream",
     "text": [
      "ok        10000  100%\n",
      "not ok        0    0%\n",
      "\n",
      "Seems feasible.\n"
     ]
    }
   ],
   "source": [
    "beta_prime = numpy.matrix(numpy.loadtxt(tmpfolder + 'solutions/traj4_beta_prime.dat')).T\n",
    "test_mass_matrix_psd(beta_prime)"
   ]
  },
  {
   "cell_type": "code",
   "execution_count": 390,
   "metadata": {},
   "outputs": [
    {
     "name": "stdout",
     "output_type": "stream",
     "text": [
      "ok        10000  100%\n",
      "not ok        0    0%\n",
      "\n",
      "Seems feasible.\n"
     ]
    }
   ],
   "source": [
    "beta_star = numpy.matrix(numpy.loadtxt(tmpfolder + 'solutions/traj4_beta_star.dat')).T\n",
    "test_mass_matrix_psd(beta_star)"
   ]
  },
  {
   "cell_type": "code",
   "execution_count": 391,
   "metadata": {},
   "outputs": [
    {
     "name": "stdout",
     "output_type": "stream",
     "text": [
      "ok        10000  100%\n",
      "not ok        0    0%\n",
      "\n",
      "Seems feasible.\n"
     ]
    }
   ],
   "source": [
    "beta_starextra = numpy.matrix(numpy.loadtxt(tmpfolder + 'solutions/traj4_beta_starextra.dat')).T\n",
    "test_mass_matrix_psd(beta_starextra)"
   ]
  },
  {
   "cell_type": "markdown",
   "metadata": {},
   "source": [
    "5 - Regression Model Validation\n",
    "===================================================="
   ]
  },
  {
   "cell_type": "code",
   "execution_count": 356,
   "metadata": {},
   "outputs": [],
   "source": [
    "import numpy as np\n",
    "import sympybotics\n",
    "import pickle\n",
    "\n",
    "from collections import OrderedDict\n",
    "from support_funcs.utils import ListTable"
   ]
  },
  {
   "cell_type": "code",
   "execution_count": 357,
   "metadata": {},
   "outputs": [],
   "source": [
    "with open(tmpfolder +  'robotmodels/onedof_model.pkl', 'rb' ) as file:\n",
    "          rbt = pickle.load( file )"
   ]
  },
  {
   "cell_type": "code",
   "execution_count": 358,
   "metadata": {},
   "outputs": [],
   "source": [
    "def analyse(W, omega, R1, beta):\n",
    "    from numpy import matrix, mean\n",
    "    from numpy.linalg import cond, norm\n",
    "    \n",
    "    p = dict()\n",
    "    \n",
    "    n = W.shape[0]\n",
    "    \n",
    "    omega_norm = norm(omega)\n",
    "    omega_mean = mean(omega)\n",
    "    \n",
    "    p['err'] = norm(omega - W * beta)\n",
    "    p['merr'] = p['err'] / n\n",
    "    \n",
    "    p['se'] = p['err']**2\n",
    "    p['mse'] = p['se']/(n-W.shape[1])\n",
    "    p['rmse'] = p['mse']**0.5\n",
    "    \n",
    "    C = p['mse'] * (R1.T * R1).I\n",
    "    p['sd'] = np.sqrt(C.diagonal()).T\n",
    "    p['sd%'] = 100. * p['sd'] / np.abs(beta)\n",
    "    \n",
    "    p['relerr'] = p['err']/ omega_norm\n",
    "    p['relerr%'] = p['relerr']*100.\n",
    "    \n",
    "    p['1-r2'] = p['err']**2 / norm(omega - omega_mean)**2\n",
    "    p['r2'] = 1 - p['1-r2']\n",
    "\n",
    "    return p\n",
    "    "
   ]
  },
  {
   "cell_type": "code",
   "execution_count": 359,
   "metadata": {},
   "outputs": [],
   "source": [
    "# trajs = OrderedDict([('id', 'traj1'),\n",
    "#                      ('vA', 'traj2'),\n",
    "#                      ('vB', 'traj3'),\n",
    "#                      ('vC', 'traj4')])\n",
    "\n",
    "trajs = OrderedDict([('id', 'traj4'),\n",
    "                     ('vA', 'traj2'),\n",
    "                     ('vB', 'traj3'),\n",
    "                     ('vC', 'traj1')])\n",
    "\n",
    "betas = OrderedDict([('beta_ols', 'B^'),\n",
    "                     ('beta_wls', 'B~'),\n",
    "                     ('beta_prime', 'B\\''),\n",
    "                     ('beta_star', 'B*'),\n",
    "                     ('beta_starextra', 'B*e')])"
   ]
  },
  {
   "cell_type": "code",
   "execution_count": 360,
   "metadata": {},
   "outputs": [],
   "source": [
    "solutions_beta = {betaname:np.matrix(np.loadtxt(tmpfolder + 'solutions/%s_%s.dat'%(trajs['id'], betaname))).T for betaname in betas}"
   ]
  },
  {
   "cell_type": "code",
   "execution_count": 361,
   "metadata": {},
   "outputs": [
    {
     "name": "stdout",
     "output_type": "stream",
     "text": [
      "id\n",
      "vA\n",
      "vB\n",
      "vC\n"
     ]
    }
   ],
   "source": [
    "analysis = dict()\n",
    "\n",
    "for traj in trajs:\n",
    "    from numpy.linalg import cond\n",
    "    \n",
    "    print(traj)\n",
    "    \n",
    "    analysis[traj] = dict()\n",
    "    \n",
    "    regr_mats = np.load(tmpfolder + 'procdata/' + trajs[traj] + '_regr.npz')\n",
    "    W = np.matrix(regr_mats['W'])\n",
    "    omega = np.matrix(regr_mats['omega'])\n",
    "    R1 = np.matrix(regr_mats['R1'])\n",
    "    \n",
    "    analysis[traj]['cond'] = cond(W)\n",
    "    \n",
    "    analysis[traj]['betas'] = dict()\n",
    "    \n",
    "    for betaname in betas:\n",
    "        beta = solutions_beta[betaname]\n",
    "        analysis[traj]['betas'][betaname] = analyse(W, omega, R1, beta)\n",
    "    \n",
    "    del W, omega, R1"
   ]
  },
  {
   "cell_type": "code",
   "execution_count": 362,
   "metadata": {},
   "outputs": [
    {
     "data": {
      "text/html": [
       "<table><tr><td></td><td>cond</td><td>B^</td><td>B~</td><td>B'</td><td>B*</td><td>B*e</td></tr><tr><td>id</td><td>6</td><td>1.96</td><td>1.96</td><td>1.96</td><td>1.96</td><td>1.96</td></tr><tr><td>vA</td><td>6</td><td>18.14</td><td>18.14</td><td>18.14</td><td>18.14</td><td>18.14</td></tr><tr><td>vB</td><td>6</td><td>18.13</td><td>18.13</td><td>18.13</td><td>18.13</td><td>18.13</td></tr><tr><td>vC</td><td>6</td><td>18.14</td><td>18.14</td><td>18.14</td><td>18.14</td><td>18.14</td></tr></table>"
      ],
      "text/plain": [
       "[['', 'cond', 'B^', 'B~', \"B'\", 'B*', 'B*e'],\n",
       " ['id', '6', '1.96', '1.96', '1.96', '1.96', '1.96'],\n",
       " ['vA', '6', '18.14', '18.14', '18.14', '18.14', '18.14'],\n",
       " ['vB', '6', '18.13', '18.13', '18.13', '18.13', '18.13'],\n",
       " ['vC', '6', '18.14', '18.14', '18.14', '18.14', '18.14']]"
      ]
     },
     "execution_count": 362,
     "metadata": {},
     "output_type": "execute_result"
    }
   ],
   "source": [
    "prop = lambda x: x['relerr%']\n",
    "form = '%.2f'\n",
    "\n",
    "table = ListTable()\n",
    "table.append([''] + ['cond'] + betas.values())\n",
    "for (traj, trajname) in zip(trajs, ['identification', 'validation A', 'validation B', 'validation C']):\n",
    "    row = [traj] + ['%.0f'%analysis[traj]['cond']] + [ form%prop(analysis[traj]['betas'][b]) for b in betas]\n",
    "    table.append(row)\n",
    "table"
   ]
  },
  {
   "cell_type": "code",
   "execution_count": 363,
   "metadata": {},
   "outputs": [],
   "source": [
    "import yaml, sympy\n",
    "with open(datafolder + 'robotparams/onedof_cad.yml', 'r') as f:\n",
    "    onedof_cad = yaml.load(f)\n",
    "delta_cad = sympy.Matrix([onedof_cad.get(str(d), d) for d in rbt.dyn.dynparms])\n",
    "beta_cad = (rbt.dyn.Pb.T + rbt.dyn.Kd * rbt.dyn.Pd.T) * delta_cad"
   ]
  },
  {
   "cell_type": "code",
   "execution_count": 364,
   "metadata": {},
   "outputs": [
    {
     "data": {
      "text/plain": [
       "Matrix([\n",
       "[5.4652],\n",
       "[     0],\n",
       "[ -0.08]])"
      ]
     },
     "execution_count": 364,
     "metadata": {},
     "output_type": "execute_result"
    }
   ],
   "source": [
    "beta_cad"
   ]
  },
  {
   "cell_type": "markdown",
   "metadata": {},
   "source": [
    "### plot measured and predicted torque"
   ]
  },
  {
   "cell_type": "code",
   "execution_count": 365,
   "metadata": {},
   "outputs": [],
   "source": [
    "indentification_traj = 'traj4'\n",
    "regr_mats = numpy.load(tmpfolder + 'procdata/' + indentification_traj + '_regr.npz')\n",
    "W = numpy.matrix(regr_mats['W'])"
   ]
  },
  {
   "cell_type": "code",
   "execution_count": 366,
   "metadata": {},
   "outputs": [
    {
     "data": {
      "image/png": "[encoded data removed]",
      "text/plain": [
       "<Figure size 864x576 with 1 Axes>"
      ]
     },
     "metadata": {
      "needs_background": "light"
     },
     "output_type": "display_data"
    }
   ],
   "source": [
    "# from support_funcs.regr_data_proc import  plot_meas_pred_tau\n",
    "\n",
    "import matplotlib.pyplot as plt\n",
    "plt.rcParams['figure.figsize'] = [12,8]\n",
    "\n",
    "proc = numpy.load(tmpfolder + 'procdata/' + indentification_traj + '_proc.npz')\n",
    "t = proc['t']\n",
    "tau = proc['tau']\n",
    "\n",
    "tau_p = np.zeros(tau.shape)\n",
    "tau_ps = W.dot(numpy.matrix(beta_cad))\n",
    "for i in range(dof):\n",
    "    tau_p[:, i] = tau_ps[i::dof].flatten()\n",
    "\n",
    "base_freq = 0.05    \n",
    "trajectory_sampling_rate = 50\n",
    "plot_data_num = int(1 / base_freq * trajectory_sampling_rate)\n",
    "plot_meas_pred_tau(t[:plot_data_num], tau[:plot_data_num, :],\n",
    "                   tau_p[:plot_data_num, :])"
   ]
  },
  {
   "cell_type": "code",
   "execution_count": 367,
   "metadata": {},
   "outputs": [],
   "source": [
    "q = proc['q']\n",
    "dq = proc['dq']\n",
    "ddq = proc['ddq']"
   ]
  },
  {
   "cell_type": "code",
   "execution_count": 368,
   "metadata": {},
   "outputs": [
    {
     "name": "stdout",
     "output_type": "stream",
     "text": [
      "[2.61095533] [-0.6256688] [-1.1636003] [-6.95234198] [-6.75648242]\n",
      "[2.59821321] [-0.64834329] [-1.10365262] [-6.63691089] [-6.4374487]\n",
      "[2.58502967] [-0.66980721] [-1.04253404] [-6.31539585] [-6.11224412]\n",
      "[2.57142914] [-0.69003765] [-0.98034947] [-5.98801927] [-5.78141718]\n",
      "[2.55743651] [-0.70901551] [-0.91733018] [-5.65570912] [-5.4462067]\n",
      "[2.54307697] [-0.72672578] [-0.8535777] [-5.31939164] [-5.10714236]\n",
      "[2.52837603] [-0.74315304] [-0.78898073] [-4.97884223] [-4.76359065]\n",
      "[2.51335952] [-0.7582793] [-0.72349218] [-4.63334816] [-4.4152691]\n",
      "[2.49805364] [-0.77208824] [-0.65732257] [-4.28338768] [-4.06330309]\n",
      "[2.48248484] [-0.78456925] [-0.59073839] [-3.93054495] [-3.7091242]\n",
      "[2.46667977] [-0.79571521] [-0.5237909] [-3.57575026] [-3.35298804]\n",
      "[2.45066519] [-0.80551783] [-0.45637198] [-3.21857185] [-2.99427968]\n",
      "[2.43446807] [-0.81396708] [-0.38847391] [-2.85851753] [-2.63293331]\n",
      "[2.41811558] [-0.82105498] [-0.32029538] [-2.49631397] [-2.27001182]\n",
      "[2.40163497] [-0.82677867] [-0.25210389] [-2.13350007] [-1.90695482]\n",
      "[2.38505352] [-0.83113963] [-0.18401488] [-1.77108876] [-1.54437173]\n",
      "[2.36839846] [-0.83413932] [-0.1159321] [-1.40882036] [-1.18171592]\n",
      "[2.35169702] [-0.83577662] [-0.04777352] [-1.04584926] [-0.81851944]\n",
      "[2.33497648] [-0.83605089] [0.02030574] [-0.68231677] [-0.45561133]\n",
      "[2.31826404] [-0.83496653] [0.08804355] [-0.31969848] [-0.09440664]\n"
     ]
    }
   ],
   "source": [
    "for i in range(20):\n",
    "    print q[i] ,dq[i], ddq[i], tau[i],tau_p[i]"
   ]
  },
  {
   "cell_type": "markdown",
   "metadata": {},
   "source": [
    "### $\\beta^{cad}$  Double Check"
   ]
  },
  {
   "cell_type": "code",
   "execution_count": 369,
   "metadata": {},
   "outputs": [],
   "source": [
    "def  test_lmi_matrix_psd(delta_solution):\n",
    "    dict_subs = dict(zip(delta, delta_solution))\n",
    "\n",
    "    test = 'ok'\n",
    "    for Di in D_blocks:\n",
    "            m = numpy.matrix(mrepl(Di, dict_subs)).astype(float)\n",
    "            for v in numpy.linalg.eigvals( m ):\n",
    "                if v <= 0.0:\n",
    "                    print(v)\n",
    "                    test = 'fail'\n",
    "    print(test)"
   ]
  },
  {
   "cell_type": "code",
   "execution_count": 370,
   "metadata": {},
   "outputs": [
    {
     "name": "stdout",
     "output_type": "stream",
     "text": [
      "ok\n"
     ]
    }
   ],
   "source": [
    "test_lmi_matrix_psd(delta_cad)"
   ]
  },
  {
   "cell_type": "code",
   "execution_count": 371,
   "metadata": {},
   "outputs": [
    {
     "name": "stdout",
     "output_type": "stream",
     "text": [
      "ok        10000  100%\n",
      "not ok        0    0%\n",
      "\n",
      "Seems feasible.\n"
     ]
    }
   ],
   "source": [
    "test_mass_matrix_psd(beta_cad)"
   ]
  },
  {
   "cell_type": "code",
   "execution_count": 372,
   "metadata": {},
   "outputs": [
    {
     "data": {
      "text/html": [
       "<table><tr><td></td><td>Bcad</td><td>B^</td><td>% std dev B^</td><td>B*ext</td></tr><tr><td>L_1zz</td><td>5.465</td><td>5.464</td><td>0.039</td><td>5.464</td></tr><tr><td>l_1x</td><td>0</td><td>-0.0004756</td><td>75</td><td>-0.0004756</td></tr><tr><td>l_1y</td><td>-0.08000</td><td>-0.07983</td><td>0.45</td><td>-0.07983</td></tr></table>"
      ],
      "text/plain": [
       "[['', 'Bcad', 'B^', '% std dev B^', 'B*ext'],\n",
       " ['L_1zz', 5.465, '5.464', '0.039', '5.464'],\n",
       " ['l_1x', 0, '-0.0004756', '75', '-0.0004756'],\n",
       " ['l_1y', -0.08000, '-0.07983', '0.45', '-0.07983']]"
      ]
     },
     "execution_count": 372,
     "metadata": {},
     "output_type": "execute_result"
    }
   ],
   "source": [
    "form = '%.4g'\n",
    "\n",
    "import sympy\n",
    "\n",
    "table = ListTable()\n",
    "header = ['', 'Bcad', 'B^', '% std dev B^', 'B*ext']\n",
    "table.append(header)\n",
    "for i, b in enumerate(rbt.dyn.baseparms.n()):\n",
    "    if beta_cad[i].is_Number:\n",
    "        cad_v = sympy.N(beta_cad[i], 4)\n",
    "    elif beta_cad[i].is_Symbol:\n",
    "        cad_v = '---'\n",
    "    else:\n",
    "        cad_v = sympy.N(beta_cad[i], 4)\n",
    "    row = ['%.7s ...'%b if len(str(b)) > 107 else str(b), cad_v]\n",
    "    row += [form%solutions_beta['beta_ols'][i,0], '%.2g'%analysis['id']['betas']['beta_ols']['sd%'][i,0]]\n",
    "    row += [form%solutions_beta['beta_starextra'][i,0]]\n",
    "    table.append(row)\n",
    "table"
   ]
  },
  {
   "cell_type": "markdown",
   "metadata": {},
   "source": [
    "## Torque Plot"
   ]
  },
  {
   "cell_type": "code",
   "execution_count": 373,
   "metadata": {},
   "outputs": [],
   "source": [
    "traj = 'id'\n",
    "betaname = 'beta_star'"
   ]
  },
  {
   "cell_type": "code",
   "execution_count": 374,
   "metadata": {},
   "outputs": [],
   "source": [
    "regr_mats = np.load(tmpfolder + 'procdata/' + trajs[traj] + '_regr.npz')\n",
    "W = np.matrix(regr_mats['W'])\n",
    "omega = np.matrix(regr_mats['omega'])\n",
    "\n",
    "regr_mats = np.load(tmpfolder + 'procdata/' + trajs[traj] + '_proc.npz')\n",
    "t = regr_mats['t']\n",
    "tau_proc = np.matrix(regr_mats['tau'])\n",
    "\n",
    "regr_mats = np.load(tmpfolder + 'procdata/' + trajs[traj] + '_raw.npz')\n",
    "tau_raw = np.matrix(regr_mats['tau'])"
   ]
  },
  {
   "cell_type": "code",
   "execution_count": 375,
   "metadata": {},
   "outputs": [],
   "source": [
    "beta_solution = np.matrix(np.loadtxt(tmpfolder + 'solutions/%s_%s.dat'%(trajs['id'], betaname))).T"
   ]
  },
  {
   "cell_type": "code",
   "execution_count": 376,
   "metadata": {},
   "outputs": [],
   "source": [
    "tau = tau_raw"
   ]
  },
  {
   "cell_type": "code",
   "execution_count": 377,
   "metadata": {},
   "outputs": [],
   "source": [
    "omega_pred = W * beta_solution\n",
    "tau_pred = omega_pred.reshape( omega_pred.shape[0]/tau.shape[1], tau.shape[1] )\n",
    "err_pred = tau - tau_pred"
   ]
  },
  {
   "cell_type": "code",
   "execution_count": 378,
   "metadata": {},
   "outputs": [],
   "source": [
    "joint = 1\n",
    "firsts = 2000\n",
    "s=tau_raw.shape[0]"
   ]
  },
  {
   "cell_type": "code",
   "execution_count": 379,
   "metadata": {},
   "outputs": [
    {
     "data": {
      "image/png": "[encoded data removed]",
      "text/plain": [
       "<Figure size 864x576 with 1 Axes>"
      ]
     },
     "metadata": {
      "needs_background": "light"
     },
     "output_type": "display_data"
    }
   ],
   "source": [
    "from matplotlib import pyplot as plt\n",
    "plt.close()\n",
    "\n",
    "plt.figure(figsize=(12,8))\n",
    "\n",
    "axes = []\n",
    "for i in range(tau.shape[1]):\n",
    "    ax = plt.subplot(3, 3, i+1)\n",
    "    ax.plot(t[:firsts],tau_raw[:,i][:firsts], label=\"Measured torque\")\n",
    "    ax.plot(t[:firsts],tau_pred[:,i][:firsts], label=\"Estimated torque\")\n",
    "    ax.plot(t[:firsts],err_pred[:,i][:firsts], label=\"Error\")\n",
    "    ax.set_title( \"Joint %d\"%(i+1) )\n",
    "    plt.xlabel(\"Time (s)\")\n",
    "    plt.ylabel(\"Torque (Nm)\")\n",
    "    axes.append(ax)\n",
    "\n",
    "plt.tight_layout()\n",
    "\n",
    "plt.show()"
   ]
  },
  {
   "cell_type": "code",
   "execution_count": 392,
   "metadata": {},
   "outputs": [
    {
     "data": {
      "text/plain": [
       "matrix([[ 5.46444079e+00],\n",
       "        [-4.75648761e-04],\n",
       "        [-7.98258055e-02]])"
      ]
     },
     "execution_count": 392,
     "metadata": {},
     "output_type": "execute_result"
    }
   ],
   "source": [
    "beta_starextra"
   ]
  },
  {
   "cell_type": "code",
   "execution_count": 393,
   "metadata": {},
   "outputs": [],
   "source": [
    "delta_starextra = Pb*beta_starextra + (-Pb*rbt.dyn.Kd+rbt.dyn.Pd)*delta_d_starextra\n",
    "K = np.matrix(Pb.T+rbt.dyn.Kd*rbt.dyn.Pd.T).astype(float)\n",
    "delta_starextra_min = np.linalg.pinv(K)*beta_starextra"
   ]
  },
  {
   "cell_type": "code",
   "execution_count": 394,
   "metadata": {},
   "outputs": [],
   "source": [
    "np.testing.assert_array_almost_equal(K * delta_starextra ,beta_starextra, 10)"
   ]
  },
  {
   "cell_type": "code",
   "execution_count": 395,
   "metadata": {},
   "outputs": [
    {
     "name": "stdout",
     "output_type": "stream",
     "text": [
      "double L_1xx    =    5773502.69224243;\n",
      "double L_1xy    =    -6.28135462106671e-6;\n",
      "double L_1xz    =    0;\n",
      "double L_1yy    =    5773502.69189660;\n",
      "double L_1yz    =    0;\n",
      "double L_1zz    =    5.46444079418025;\n",
      "double l_1x    =    -0.000475648760565255;\n",
      "double l_1y    =    -0.0798258054926146;\n",
      "double l_1z    =    0;\n",
      "double m_1    =    4.48615778034071;\n"
     ]
    }
   ],
   "source": [
    "for i in range(delta_starextra.shape[0]):\n",
    "     print 'double ' + repr(rbt.dyn.dynparms[i]) + '    =    ' + repr(delta_starextra[i,0]) + ';'"
   ]
  },
  {
   "cell_type": "code",
   "execution_count": 396,
   "metadata": {},
   "outputs": [
    {
     "name": "stdout",
     "output_type": "stream",
     "text": [
      "double L_1xx    =    0.0;\n",
      "double L_1xy    =    0.0;\n",
      "double L_1xz    =    0.0;\n",
      "double L_1yy    =    0.0;\n",
      "double L_1yz    =    0.0;\n",
      "double L_1zz    =    5.464440794180246;\n",
      "double l_1x    =    -0.0004756487605652551;\n",
      "double l_1y    =    -0.07982580549261459;\n",
      "double l_1z    =    0.0;\n",
      "double m_1    =    0.0;\n"
     ]
    }
   ],
   "source": [
    "for i in range(delta_starextra.shape[0]):\n",
    "     print 'double ' + repr(rbt.dyn.dynparms[i]) + '    =    ' + repr(delta_starextra_min[i,0]) + ';'"
   ]
  },
  {
   "cell_type": "markdown",
   "metadata": {},
   "source": [
    "---------------------------\n",
    "\n",
    "---------------------------\n",
    "\n",
    "---------------------------\n",
    "\n",
    "---------------------------\n",
    "\n",
    "---------------------------\n",
    "\n",
    "---------------------------\n",
    "\n",
    "---------------------------\n",
    "\n",
    "---------------------------\n",
    "\n",
    "---------------------------\n",
    "\n",
    "### (generate readme and notebook preview)"
   ]
  },
  {
   "cell_type": "code",
   "execution_count": 3,
   "metadata": {},
   "outputs": [],
   "source": [
    "def save_files(): \n",
    "    from IPython.display import display, Javascript\n",
    "    Javascript('IPython.notebook.save_notebook()')\n",
    "    \n",
    "    import json\n",
    "    with open('WAM7 Dynamic Parameter Identification.ipynb', 'r') as f:\n",
    "        d = json.load(f)\n",
    "    with open('README.md', 'w') as f:\n",
    "        f.write(''.join(d['worksheets'][0]['cells'][0]['source']).encode('UTF-8'))\n",
    "    \n",
    "    !ipython nbconvert \"WAM7 Dynamic Parameter Identification.ipynb\" --to html"
   ]
  },
  {
   "cell_type": "code",
   "execution_count": 3,
   "metadata": {},
   "outputs": [],
   "source": [
    "#save_files()"
   ]
  },
  {
   "cell_type": "code",
   "execution_count": 36,
   "metadata": {},
   "outputs": [],
   "source": [
    "#!git status"
   ]
  },
  {
   "cell_type": "code",
   "execution_count": 37,
   "metadata": {},
   "outputs": [],
   "source": [
    "#!git commit -a -m \"Add automathic README.md file generator\""
   ]
  },
  {
   "cell_type": "code",
   "execution_count": 38,
   "metadata": {},
   "outputs": [],
   "source": [
    "#!git push"
   ]
  },
  {
   "cell_type": "code",
   "execution_count": null,
   "metadata": {},
   "outputs": [],
   "source": []
  }
 ],
 "metadata": {
  "kernelspec": {
   "display_name": "Environment (conda_sousa)",
   "language": "python",
   "name": "conda_sousa"
  },
  "language_info": {
   "codemirror_mode": {
    "name": "ipython",
    "version": 2
   },
   "file_extension": ".py",
   "mimetype": "text/x-python",
   "name": "python",
   "nbconvert_exporter": "python",
   "pygments_lexer": "ipython2",
   "version": "2.7.15"
  }
 },
 "nbformat": 4,
 "nbformat_minor": 1
}
